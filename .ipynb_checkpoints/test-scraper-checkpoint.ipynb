{
 "cells": [
  {
   "cell_type": "code",
   "execution_count": 1,
   "id": "initial_id",
   "metadata": {
    "collapsed": true,
    "ExecuteTime": {
     "end_time": "2025-08-15T10:43:22.190613200Z",
     "start_time": "2025-08-15T10:43:21.873606Z"
    }
   },
   "outputs": [],
   "source": [
    "from site_scraper import SiteScraper\n",
    "from story_clusterer import StoryClusterer\n",
    "\n",
    "sites = [\n",
    "    SiteScraper(\"gsp\", \"https://www.gsp.ro\", 3.6),\n",
    "    SiteScraper(\"prosport\", \"https://www.prosport.ro\", 1.8),\n",
    "    SiteScraper(\"sportro\", \"https://www.sport.ro\", 1.7),\n",
    "    SiteScraper(\"digisport\", \"https://www.digisport.ro\", 3.3)\n",
    "]"
   ]
  },
  {
   "cell_type": "code",
   "execution_count": 4,
   "outputs": [
    {
     "name": "stdout",
     "output_type": "stream",
     "text": [
      "{'title': 'Garry Kasparov, după ce Donald Trump a comparat întâlnirea cu Vladimir Putin cu o partidă de șah: „Există o singură diferență”', 'url': 'https://www.gsp.ro/gsp-special/special/replica-sarcastica-a-lui-garry-kasparov-donald-trump-vladimir-putin-831239.html', 'timestamp': datetime.datetime(2025, 8, 15, 11, 11, tzinfo=datetime.timezone(datetime.timedelta(seconds=10800))), 'summary': 'Întreg mapamondul stă cu sufletul la gură în așteptarea întâlnirii dintre Donald Trump și Vladimir Putin, care va avea loc vineri seara, în Alaska, în jurul orei 22:00. Summit-ul de la baza militară Elmendorf-Richardson din Anchorage ar putea stabili direcția războiului de uzură din Ucraina, intrat în cel de-al patrulea an.', 'keywords': ['ianis', 'gianluigi', 'polonia', 'dincolo', 'baschet', 'volei', 'donald', 'articol', 'șapte', 'scorpie', 'i0sif_', 'pugilistul', 'privind', 'putea', 'depinde', 'câștigă', 'favorizează', 'modalități', 'extraordinar', 'câștigi'], 'comments': 0}\n"
     ]
    }
   ],
   "source": [
    "\n",
    "from article_scraper import ArticleScraper\n",
    "\n",
    "homepage_url = \"https://www.gsp.ro/gsp-special/special/replica-sarcastica-a-lui-garry-kasparov-donald-trump-vladimir-putin-831239.html\"\n",
    "homepage_title = \"Garry Kasparov, după ce Donald Trump a comparat întâlnirea cu Vladimir Putin cu o partidă de șah: „Există o singură diferență”\"\n",
    "article_scraper = ArticleScraper(homepage_url, homepage_title)\n",
    "article_scraper.fetch()\n",
    "article_data = article_scraper.extract()\n",
    "\n",
    "if article_data:\n",
    "    # Use for clustering, storage, etc.\n",
    "    print(article_data)\n",
    "else:\n",
    "    print(\"Article validation failed or page inaccessible.\")"
   ],
   "metadata": {
    "collapsed": false,
    "ExecuteTime": {
     "end_time": "2025-08-15T10:44:58.298897800Z",
     "start_time": "2025-08-15T10:44:57.432854600Z"
    }
   },
   "id": "d0df57ebe5ff3e8d"
  },
  {
   "cell_type": "code",
   "execution_count": 12,
   "outputs": [],
   "source": [
    "total_traffic = sum(site.traffic for site in sites)\n",
    "for site in sites:\n",
    "    site.compute_weight(total_traffic)\n",
    "    site.scrape_articles(minutes=240)\n",
    "\n"
   ],
   "metadata": {
    "collapsed": false,
    "ExecuteTime": {
     "end_time": "2025-08-15T09:58:32.650539100Z",
     "start_time": "2025-08-15T09:58:30.931050400Z"
    }
   },
   "id": "ea6800b5104ac3e6"
  },
  {
   "cell_type": "code",
   "execution_count": null,
   "outputs": [],
   "source": [
    "clusterer = StoryClusterer(sites)\n",
    "clusterer.cluster_stories()\n",
    "top_stories = clusterer.score_clusters()\n",
    "\n",
    "for i, story in enumerate(top_stories[:5], 1):\n",
    "    print(f\"\\n🏆 Top {i} — Score: {story['score']}\")\n",
    "    for article in story[\"articles\"]:\n",
    "        print(f\"- {article['site']}: {article['title']}\")"
   ],
   "metadata": {
    "collapsed": false
   },
   "id": "c4b154155beba4cd"
  }
 ],
 "metadata": {
  "kernelspec": {
   "display_name": "Python 3",
   "language": "python",
   "name": "python3"
  },
  "language_info": {
   "codemirror_mode": {
    "name": "ipython",
    "version": 2
   },
   "file_extension": ".py",
   "mimetype": "text/x-python",
   "name": "python",
   "nbconvert_exporter": "python",
   "pygments_lexer": "ipython2",
   "version": "2.7.6"
  }
 },
 "nbformat": 4,
 "nbformat_minor": 5
}
