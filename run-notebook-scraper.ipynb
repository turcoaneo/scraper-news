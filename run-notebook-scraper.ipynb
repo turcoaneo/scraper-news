{
 "cells": [
  {
   "cell_type": "code",
   "execution_count": 1,
   "id": "initial_id",
   "metadata": {
    "collapsed": true,
    "jupyter": {
     "outputs_hidden": true
    },
    "ExecuteTime": {
     "end_time": "2025-10-04T12:24:51.537260200Z",
     "start_time": "2025-10-04T12:24:31.063109Z"
    }
   },
   "outputs": [],
   "source": [
    "from service.site_scraper import SiteScraper\n",
    "\n",
    "gsp_scraper = SiteScraper(\n",
    "    name=\"gsp\",\n",
    "    base_url=\"https://www.gsp.ro\",\n",
    "    traffic=3.6,\n",
    "    time_selector=\"p.data-author\",\n",
    "    block_selector=\"div.news-item\",\n",
    "    link_selector=\"h2 a\",\n",
    "    title_strategy=\"text\"\n",
    ")\n",
    "\n",
    "digisport_scraper = SiteScraper(\n",
    "    name=\"digisport\",\n",
    "    base_url=\"https://www.digisport.ro\",\n",
    "    traffic=3.3,\n",
    "    time_selector=\"cite\",\n",
    "    block_selector=\"article.article\",\n",
    "    link_selector=\"a.article-link, h3 a.widget-latest-list-item-link\",\n",
    "    title_strategy=\"attribute\",\n",
    "    title_attribute=\"title\"\n",
    ")\n",
    "\n",
    "fanatik_scraper = SiteScraper(\n",
    "    name=\"fanatik\",\n",
    "    base_url=\"https://www.fanatik.ro\",\n",
    "    traffic=2.9,  # Estimated, adjust as needed\n",
    "    time_selector=\"span.date\",  # Often used near article blocks\n",
    "    block_selector=\"div.article\",  # Container for each article\n",
    "    link_selector=\"h3 a\",  # Headline links\n",
    "    title_strategy=\"text\"\n",
    ")\n",
    "\n",
    "prosport_scraper = SiteScraper(\n",
    "    name=\"prosport\",\n",
    "    base_url=\"https://www.prosport.ro\",\n",
    "    traffic=3.1,\n",
    "    time_selector=\"span.date\",\n",
    "    block_selector=\"h2.article__title\",  # Directly targets the title block\n",
    "    link_selector=\"a\",  # The anchor inside the h2\n",
    "    title_strategy=\"text\"\n",
    ")\n",
    "\n",
    "# sites = [gsp_scraper, digisport_scraper, fanatik_scraper, prosport_scraper]\n",
    "sites = [prosport_scraper]\n",
    "total_traffic = sum(site.traffic for site in sites)"
   ]
  },
  {
   "cell_type": "code",
   "execution_count": 2,
   "id": "ea6800b5104ac3e6",
   "metadata": {
    "collapsed": false,
    "ExecuteTime": {
     "end_time": "2025-10-04T12:26:36.627503800Z",
     "start_time": "2025-10-04T12:26:22.221389600Z"
    }
   },
   "outputs": [],
   "source": [
    "for site in sites:\n",
    "    site.compute_weight(total_traffic)\n",
    "    site.scrape_recent_articles(minutes=60)\n",
    "    # site.save_to_csv()\n",
    "    # site.short_print()\n"
   ]
  },
  {
   "cell_type": "code",
   "execution_count": 3,
   "outputs": [],
   "source": [
    "for site in sites:\n",
    "    site.save_to_csv()\n",
    "    # site.short_print()"
   ],
   "metadata": {
    "collapsed": false,
    "ExecuteTime": {
     "end_time": "2025-10-04T12:27:04.534885800Z",
     "start_time": "2025-10-04T12:27:04.525990400Z"
    }
   },
   "id": "63973d2eecbc43b3"
  },
  {
   "cell_type": "code",
   "execution_count": null,
   "id": "c4b154155beba4cd",
   "metadata": {
    "collapsed": false,
    "ExecuteTime": {
     "start_time": "2025-10-04T10:47:27.317461100Z"
    }
   },
   "outputs": [],
   "source": [
    "from service.story_clusterer import StoryClusterer\n",
    "\n",
    "clusterer = StoryClusterer(sites, 360, 0.3, 0.2)\n",
    "clusterer.cluster_stories()\n",
    "\n",
    "clusterer.print_matched_clusters()"
   ]
  },
  {
   "cell_type": "code",
   "execution_count": null,
   "outputs": [],
   "source": [
    "\n",
    "top_stories = clusterer.score_clusters()\n",
    "\n",
    "for i, story in enumerate(top_stories[:5], 1):\n",
    "    print(f\"\\n🏆 Top {i} — Score: {story['score']}\")\n",
    "    for article in story[\"articles\"]:\n",
    "        print(f\"- {article.site}: {article.title}\")\n"
   ],
   "metadata": {
    "collapsed": false,
    "ExecuteTime": {
     "start_time": "2025-10-04T10:47:27.319481400Z"
    }
   },
   "id": "f9070c77d65c7cee"
  }
 ],
 "metadata": {
  "kernelspec": {
   "display_name": "Python 3 (ipykernel)",
   "language": "python",
   "name": "python3"
  },
  "language_info": {
   "codemirror_mode": {
    "name": "ipython",
    "version": 3
   },
   "file_extension": ".py",
   "mimetype": "text/x-python",
   "name": "python",
   "nbconvert_exporter": "python",
   "pygments_lexer": "ipython3",
   "version": "3.11.0"
  }
 },
 "nbformat": 4,
 "nbformat_minor": 5
}
