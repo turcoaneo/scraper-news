{
 "cells": [
  {
   "cell_type": "code",
   "execution_count": 3,
   "id": "initial_id",
   "metadata": {
    "collapsed": true,
    "jupyter": {
     "outputs_hidden": true
    },
    "ExecuteTime": {
     "end_time": "2025-09-25T13:01:39.722734700Z",
     "start_time": "2025-09-25T13:01:39.664115500Z"
    }
   },
   "outputs": [],
   "source": [
    "from service.site_scraper import SiteScraper\n",
    "\n",
    "gsp_scraper = SiteScraper(\n",
    "    name=\"gsp\",\n",
    "    base_url=\"https://www.gsp.ro\",\n",
    "    traffic=3.6,\n",
    "    time_selector=\"p.data-author\",\n",
    "    block_selector=\"div.news-item\",\n",
    "    link_selector=\"h2 a\",\n",
    "    title_strategy=\"text\"\n",
    ")\n",
    "\n",
    "digisport_scraper = SiteScraper(\n",
    "    name=\"digisport\",\n",
    "    base_url=\"https://www.digisport.ro\",\n",
    "    traffic=3.3,\n",
    "    time_selector=\"cite\",\n",
    "    block_selector=\"article.article\",\n",
    "    link_selector=\"a.article-link, h3 a.widget-latest-list-item-link\",\n",
    "    title_strategy=\"attribute\",\n",
    "    title_attribute=\"title\"\n",
    ")\n",
    "\n",
    "fanatik_scraper = SiteScraper(\n",
    "    name=\"fanatik\",\n",
    "    base_url=\"https://www.fanatik.ro\",\n",
    "    traffic=2.9,  # Estimated, adjust as needed\n",
    "    time_selector=\"span.date\",  # Often used near article blocks\n",
    "    block_selector=\"div.article\",  # Container for each article\n",
    "    link_selector=\"h3 a\",  # Headline links\n",
    "    title_strategy=\"text\"\n",
    ")\n",
    "\n",
    "prosport_scraper = SiteScraper(\n",
    "    name=\"prosport\",\n",
    "    base_url=\"https://www.prosport.ro\",\n",
    "    traffic=3.1,\n",
    "    time_selector=\"span.date\",\n",
    "    block_selector=\"h2.article__title\",  # Directly targets the title block\n",
    "    link_selector=\"a\",  # The anchor inside the h2\n",
    "    title_strategy=\"text\"\n",
    ")\n",
    "\n",
    "sites = [gsp_scraper, digisport_scraper, fanatik_scraper, prosport_scraper]\n",
    "# sites = [prosport_scraper]\n",
    "total_traffic = sum(site.traffic for site in sites)"
   ]
  },
  {
   "cell_type": "code",
   "execution_count": 4,
   "id": "ea6800b5104ac3e6",
   "metadata": {
    "collapsed": false,
    "ExecuteTime": {
     "end_time": "2025-09-25T13:22:00.652158700Z",
     "start_time": "2025-09-25T13:01:39.673681400Z"
    }
   },
   "outputs": [],
   "source": [
    "for site in sites:\n",
    "    site.compute_weight(total_traffic)\n",
    "    site.scrape_recent_articles(minutes=360)\n",
    "    # site.save_to_csv()\n",
    "    # site.short_print()\n"
   ]
  },
  {
   "cell_type": "code",
   "execution_count": 5,
   "outputs": [],
   "source": [
    "for site in sites:\n",
    "    site.save_to_csv()\n",
    "    # site.short_print()"
   ],
   "metadata": {
    "collapsed": false,
    "ExecuteTime": {
     "end_time": "2025-09-25T13:22:00.675876700Z",
     "start_time": "2025-09-25T13:22:00.654534600Z"
    }
   },
   "id": "63973d2eecbc43b3"
  },
  {
   "cell_type": "code",
   "execution_count": 6,
   "id": "c4b154155beba4cd",
   "metadata": {
    "collapsed": false,
    "ExecuteTime": {
     "end_time": "2025-09-25T13:22:00.836782900Z",
     "start_time": "2025-09-25T13:22:00.672873600Z"
    }
   },
   "outputs": [
    {
     "name": "stdout",
     "output_type": "stream",
     "text": [
      "\n",
      "🧠 Cluster #1 — Score: 0.535\n",
      "\n",
      "🧠 Cluster #2 — Score: 0.481\n",
      "\n",
      "🧠 Cluster #3 — Score: 0.481\n",
      "\n",
      "🧠 Cluster #4 — Score: 0.481\n",
      "\n",
      "🧠 Cluster #5 — Score: 0.465\n",
      "\n",
      "🧠 Cluster #6 — Score: 0.465\n",
      "\n",
      "🧠 Cluster #7 — Score: 0.465\n",
      "\n",
      "🔍 Matched Clusters Across Multiple Sites\n",
      "============================================================\n",
      "\n",
      "🧠 Cluster #1 — Score: 0.535 — Sites: gsp, digisport\n",
      "------------------------------------------------------------\n",
      "📰 ”Nebunie” înainte de Go Ahead Eagles - FCSB: Suporterii voiau un stadion de 3 ori mai mare\n",
      "🔗 https://www.digisport.ro/fotbal/europa-league/nebunie-inainte-de-go-ahead-eagles-fcsb-suporterii-voiau-un-stadion-de-3-ori-mai-mare-3827257\n",
      "🔑 Keywords: întâlni, prima rundă, faza ligii, direct, ora 19:45\n",
      "🏷️ Entities: FCSB, Go Ahead Eagles, Europa League, Digi Sport 1\n",
      "------------------------------------------------------------\n",
      "📰 Mihai Stoica, anunț important înainte de Go Ahead Eagles - FCSB: „Vor juca”\n",
      "🔗 https://www.gsp.ro/international/europa-league/mihai-stoica-anunt-important-go-ahead-eagles-fcsb-846362.html\n",
      "🔑 Keywords: președinte, Consiliul Administrativ, anunț, meci, grupa unică\n",
      "🏷️ Entities: Mihai Stoica, FCSB, Go Ahead Eagles, Europa League\n",
      "------------------------------------------------------------\n",
      "\n",
      "🧠 Cluster #2 — Score: 0.481 — Sites: digisport, fanatik\n",
      "------------------------------------------------------------\n",
      "📰 Florentin Pera și Bogdan Burcea și-au dat demisia de la naționala de handbal! Haos cu două luni înainte de Campionatul Mondial\n",
      "🔗 https://www.fanatik.ro/florentin-pera-si-bogdan-burcea-si-au-dat-demisia-de-la-nationala-de-handbal-haos-cu-doua-luni-inainte-de-campionatul-mondial-21282474\n",
      "🔑 Keywords: demisia, naționala feminină, handbal, selecționer, două luni\n",
      "🏷️ Entities: FANATIK, Florentin Pera, Bogdan Burcea, România, Campionatul Mondial\n",
      "------------------------------------------------------------\n",
      "📰 Florentin Pera și-a dat demisia, cu doar două luni înainte de Campionatul Mondial!\n",
      "🔗 https://www.digisport.ro/handbal/florentin-pera-si-a-dat-demisia-cu-doar-doua-luni-inainte-de-campionatul-mondial-3827267\n",
      "🔑 Keywords: selecționer, părăsească, funcția, condus, partide de pregătire, amicale\n",
      "🏷️ Entities: Florentin Pera, națională de handbal feminin, CM de handbal, Germania, Olanda, Franța\n",
      "------------------------------------------------------------\n",
      "\n",
      "🧠 Cluster #3 — Score: 0.481 — Sites: digisport, fanatik\n",
      "------------------------------------------------------------\n",
      "📰 Câte pachete a vândut Universitatea Craiova cu aproape o lună înainte de debutul în Conference League\n",
      "🔗 https://www.digisport.ro/fotbal/conference-league/cate-pachete-a-vandut-universitatea-craiova-cu-aproape-o-luna-inainte-de-debutul-in-conference-league-3826869\n",
      "🔑 Keywords: debut, faza ligii, teren propriu, meci, octombrie\n",
      "🏷️ Entities: Universitatea Craiova, Conference League, Rakow, Noah\n",
      "------------------------------------------------------------\n",
      "📰 Nebunie în Bănie! Câte pachete pentru Conference League a vândut Universitatea Craiova. Exclusiv\n",
      "🔗 https://www.fanatik.ro/nebunie-in-banie-cate-pachete-pentru-conference-league-a-vandut-universitatea-craiova-exclusiv-21280301\n",
      "🔑 Keywords: dezvăluit, direct, pachete, vândut, meciuri de acasă\n",
      "🏷️ Entities: Mihai Rotaru, FANATIK SUPERLIGA, Universitatea Craiova, Conference League\n",
      "------------------------------------------------------------\n",
      "\n",
      "🧠 Cluster #4 — Score: 0.481 — Sites: digisport, fanatik\n",
      "------------------------------------------------------------\n",
      "📰 Previziuni teribile pentru FCSB! Un supercomputer a calculat ce șanse are echipa lui Gigi Becali la calificarea în primăvara europeană\n",
      "🔗 https://www.fanatik.ro/previziuni-teribile-pentru-fcsb-specialistii-au-dat-verdictul-ce-sanse-are-echipa-lui-gigi-becali-la-calificarea-in-primavara-europeana-21282121\n",
      "🔑 Keywords: pregătește, debut, grupă, supercomputer, șanse, faze eliminatorii\n",
      "🏷️ Entities: FCSB, Europa League\n",
      "------------------------------------------------------------\n",
      "📰 Gigi Becali, imposibil de întors! Decizia patronului de la FCSB în cazul lui Daniel Bîrligea\n",
      "🔗 https://www.digisport.ro/fotbal/liga-1/gigi-becali-imposibil-de-intors-decizia-patronului-de-la-fcsb-in-cazul-lui-daniel-birligea-3826891\n",
      "🔑 Keywords: debutează, faza principală\n",
      "🏷️ Entities: FCSB, Europa League\n",
      "------------------------------------------------------------\n",
      "\n",
      "🧠 Cluster #5 — Score: 0.465 — Sites: prosport, fanatik\n",
      "------------------------------------------------------------\n",
      "📰 „Pot eu să-l las pe Tati la greu?”. Gigi Becali nu renunță! A vorbit iar despre transferul lui Louis Munteanu de la CFR la FCSB\n",
      "🔗 https://www.fanatik.ro/pot-eu-sa-l-las-pe-tati-la-greu-gigi-becali-nu-renunta-a-vorbit-iar-despre-transferul-lui-louis-munteanu-de-la-cfr-la-fcsb-21279813\n",
      "🔑 Keywords: transfer, negocieri, iarnă, redeschide, sugerează\n",
      "🏷️ Entities: Gigi Becali, Louis Munteanu, CFR Cluj\n",
      "------------------------------------------------------------\n",
      "📰 Gigi Becali negociază iar transferul lui Louis Munteanu la FCSB. Marea lovitură pregătită de FCSB: „Nu pot să-l las pe Tati la greu”\n",
      "🔗 https://www.prosport.ro/fotbal-intern/superliga/gigi-becali-negociaza-iar-transferul-lui-louis-munteanu-la-fcsb-marea-lovitura-pregatita-de-fcsb-nu-pot-sa-l-las-pe-tati-la-greu-20281829\n",
      "🔑 Keywords: transfer, negocieri, patronul, anunțat, nouă serie\n",
      "🏷️ Entities: Gigi Becali, Louis Munteanu, FCSB, CFR Cluj\n",
      "------------------------------------------------------------\n",
      "\n",
      "🧠 Cluster #6 — Score: 0.465 — Sites: prosport, fanatik\n",
      "------------------------------------------------------------\n",
      "📰 Campionatele Mondiale de Canotaj 2025. Magdalena Rusu și Simona Radiș, medalie de aur la dublu rame feminin după o cursă fabuloasă. Argint la dublu rame masculin\n",
      "🔗 https://www.fanatik.ro/campionatele-mondiale-de-canotaj-2025-marian-enache-si-andrei-cornea-isi-respecta-blazonul-toate-rezultatele-flotei-romaniei-21280231\n",
      "🔑 Keywords: sportivi, echipaje, concurs, septembrie, 2025\n",
      "🏷️ Entities: România, Campionatele Mondiale de Canotaj, Shanghai\n",
      "------------------------------------------------------------\n",
      "📰 România a luat aur la Campionatele Mondiale de Canotaj din Shanghai. Simona Radiș și Magdalena Rusu, de neoprit în finala de dublu rame!\n",
      "🔗 https://www.prosport.ro/alte-sporturi/canotaj/romania-a-luat-aur-la-campionatele-mondiale-de-canotaj-din-shanghai-simona-radis-si-magdalena-rusu-de-neoprit-in-finala-de-dublu-rame-20281741\n",
      "🔑 Keywords: aur, neoprit, impus, finală, fără drept de apel\n",
      "🏷️ Entities: România, Campionatele Mondiale de Canotaj, Shanghai, Simona Radiș, Magdalena Rusu\n",
      "------------------------------------------------------------\n",
      "\n",
      "🧠 Cluster #7 — Score: 0.465 — Sites: prosport, fanatik\n",
      "------------------------------------------------------------\n",
      "📰 Dinamo, la un pas să transfere fotbalistul care a jucat 3 ani la FCSB: „Au vrut să-l dăm gratis”\n",
      "🔗 https://www.prosport.ro/fotbal-intern/superliga/dinamo-la-un-pas-sa-transfere-fotbalistul-care-a-jucat-3-ani-la-fcsb-au-vrut-sa-l-dam-gratis-20281820\n",
      "🔑 Keywords: transfer, campania de mercato, verii, roș-albastre, comanda\n",
      "🏷️ Entities: Dinamo București, FCSB, fotbalist\n",
      "------------------------------------------------------------\n",
      "📰 Dinamo, la un pas să transfere un fotbalist cu trei sezoane la FCSB: „Îl voiau gratis”\n",
      "🔗 https://www.fanatik.ro/dinamo-la-un-pas-sa-transfere-un-fotbalist-cu-trei-sezoane-la-fcsb-il-voiau-gratis-21282031\n",
      "🔑 Keywords: haită, fotbalist, trei sezoane, rivali, transfer, impediment\n",
      "🏷️ Entities: Dinamo, FCSB\n",
      "------------------------------------------------------------\n"
     ]
    }
   ],
   "source": [
    "from service.story_clusterer import StoryClusterer\n",
    "\n",
    "clusterer = StoryClusterer(sites, 360, 0.3, 0.2)\n",
    "clusterer.cluster_stories()\n",
    "\n",
    "clusterer.print_matched_clusters()"
   ]
  },
  {
   "cell_type": "code",
   "execution_count": 7,
   "outputs": [
    {
     "name": "stdout",
     "output_type": "stream",
     "text": [
      "\n",
      "🏆 Top 1 — Score: 0.535\n",
      "- digisport: ”Nebunie” înainte de Go Ahead Eagles - FCSB: Suporterii voiau un stadion de 3 ori mai mare\n",
      "- gsp: Mihai Stoica, anunț important înainte de Go Ahead Eagles - FCSB: „Vor juca”\n",
      "\n",
      "🏆 Top 2 — Score: 0.481\n",
      "- fanatik: Florentin Pera și Bogdan Burcea și-au dat demisia de la naționala de handbal! Haos cu două luni înainte de Campionatul Mondial\n",
      "- digisport: Florentin Pera și-a dat demisia, cu doar două luni înainte de Campionatul Mondial!\n",
      "\n",
      "🏆 Top 3 — Score: 0.481\n",
      "- digisport: Câte pachete a vândut Universitatea Craiova cu aproape o lună înainte de debutul în Conference League\n",
      "- fanatik: Nebunie în Bănie! Câte pachete pentru Conference League a vândut Universitatea Craiova. Exclusiv\n",
      "\n",
      "🏆 Top 4 — Score: 0.481\n",
      "- fanatik: Previziuni teribile pentru FCSB! Un supercomputer a calculat ce șanse are echipa lui Gigi Becali la calificarea în primăvara europeană\n",
      "- digisport: Gigi Becali, imposibil de întors! Decizia patronului de la FCSB în cazul lui Daniel Bîrligea\n",
      "\n",
      "🏆 Top 5 — Score: 0.465\n",
      "- fanatik: „Pot eu să-l las pe Tati la greu?”. Gigi Becali nu renunță! A vorbit iar despre transferul lui Louis Munteanu de la CFR la FCSB\n",
      "- prosport: Gigi Becali negociază iar transferul lui Louis Munteanu la FCSB. Marea lovitură pregătită de FCSB: „Nu pot să-l las pe Tati la greu”\n"
     ]
    }
   ],
   "source": [
    "\n",
    "top_stories = clusterer.score_clusters()\n",
    "\n",
    "for i, story in enumerate(top_stories[:5], 1):\n",
    "    print(f\"\\n🏆 Top {i} — Score: {story['score']}\")\n",
    "    for article in story[\"articles\"]:\n",
    "        print(f\"- {article.site}: {article.title}\")\n"
   ],
   "metadata": {
    "collapsed": false,
    "ExecuteTime": {
     "end_time": "2025-09-25T13:22:00.856023Z",
     "start_time": "2025-09-25T13:22:00.838772600Z"
    }
   },
   "id": "f9070c77d65c7cee"
  }
 ],
 "metadata": {
  "kernelspec": {
   "display_name": "Python 3 (ipykernel)",
   "language": "python",
   "name": "python3"
  },
  "language_info": {
   "codemirror_mode": {
    "name": "ipython",
    "version": 3
   },
   "file_extension": ".py",
   "mimetype": "text/x-python",
   "name": "python",
   "nbconvert_exporter": "python",
   "pygments_lexer": "ipython3",
   "version": "3.11.0"
  }
 },
 "nbformat": 4,
 "nbformat_minor": 5
}
