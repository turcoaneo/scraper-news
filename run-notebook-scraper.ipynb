{
 "cells": [
  {
   "cell_type": "code",
   "execution_count": 2,
   "id": "initial_id",
   "metadata": {
    "collapsed": true,
    "jupyter": {
     "outputs_hidden": true
    },
    "ExecuteTime": {
     "end_time": "2025-09-11T07:11:50.469327100Z",
     "start_time": "2025-09-11T07:11:49.067676600Z"
    }
   },
   "outputs": [],
   "source": [
    "from site_scraper import SiteScraper\n",
    "\n",
    "gsp_scraper = SiteScraper(\n",
    "    name=\"gsp\",\n",
    "    base_url=\"https://www.gsp.ro\",\n",
    "    traffic=3.6,\n",
    "    time_selector=\"p.data-author\",\n",
    "    block_selector=\"div.news-item\",\n",
    "    link_selector=\"h2 a\",\n",
    "    title_strategy=\"text\"\n",
    ")\n",
    "\n",
    "digisport_scraper = SiteScraper(\n",
    "    name=\"digisport\",\n",
    "    base_url=\"https://www.digisport.ro\",\n",
    "    traffic=3.3,\n",
    "    time_selector=\"cite\",\n",
    "    block_selector=\"article.article\",\n",
    "    link_selector=\"a.article-link, h3 a.widget-latest-list-item-link\",\n",
    "    title_strategy=\"attribute\",\n",
    "    title_attribute=\"title\"\n",
    ")\n",
    "\n",
    "fanatik_scraper = SiteScraper(\n",
    "    name=\"fanatik\",\n",
    "    base_url=\"https://www.fanatik.ro\",\n",
    "    traffic=2.9,  # Estimated, adjust as needed\n",
    "    time_selector=\"span.date\",  # Often used near article blocks\n",
    "    block_selector=\"div.article\",  # Container for each article\n",
    "    link_selector=\"h3 a\",  # Headline links\n",
    "    title_strategy=\"text\"\n",
    ")\n",
    "\n",
    "prosport_scraper = SiteScraper(\n",
    "    name=\"prosport\",\n",
    "    base_url=\"https://www.prosport.ro\",\n",
    "    traffic=3.1,\n",
    "    time_selector=\"span.date\",\n",
    "    block_selector=\"h2.article__title\",  # Directly targets the title block\n",
    "    link_selector=\"a\",  # The anchor inside the h2\n",
    "    title_strategy=\"text\"\n",
    ")\n",
    "\n",
    "sites = [gsp_scraper, digisport_scraper, fanatik_scraper, prosport_scraper]\n",
    "total_traffic = sum(site.traffic for site in sites)"
   ]
  },
  {
   "cell_type": "code",
   "execution_count": 3,
   "id": "ea6800b5104ac3e6",
   "metadata": {
    "collapsed": false,
    "ExecuteTime": {
     "end_time": "2025-09-11T07:15:15.816202200Z",
     "start_time": "2025-09-11T07:11:52.702497400Z"
    }
   },
   "outputs": [],
   "source": [
    "for site in sites:\n",
    "    site.compute_weight(total_traffic)\n",
    "    site.scrape_recent_articles(minutes=360)\n",
    "    site.save_to_csv()\n",
    "    # site.short_print()\n"
   ]
  },
  {
   "cell_type": "code",
   "execution_count": 4,
   "id": "c4b154155beba4cd",
   "metadata": {
    "collapsed": false,
    "ExecuteTime": {
     "end_time": "2025-09-11T07:16:37.819482900Z",
     "start_time": "2025-09-11T07:16:37.686029900Z"
    }
   },
   "outputs": [
    {
     "name": "stdout",
     "output_type": "stream",
     "text": [
      "Shared article https://www.fanatik.ro/cine-va-fi-noul-selectioner-daca-mircea-lucescu-va-pleca-lista-de-3-a-lui-razvan-burleanu-exclusiv-21273199 on digisport - fanatik skipped https://www.fanatik.ro/cine-va-fi-noul-selectioner-daca-mircea-lucescu-va-pleca-lista-de-3-a-lui-razvan-burleanu-exclusiv-21273199 digisport fanatik\n",
      "Shared article https://www.prosport.ro/fotbal-intern/nationala/mircea-lucescu-e-out-de-la-nationala-romaniei-culisele-finalului-si-raspunsurile-la-10-intrebari-puse-de-milioane-de-romani-intr-un-material-de-gabriel-berceanu-exclusiv-20269549 on digisport - prosport skipped https://www.prosport.ro/fotbal-intern/nationala/mircea-lucescu-e-out-de-la-nationala-romaniei-culisele-finalului-si-raspunsurile-la-10-intrebari-puse-de-milioane-de-romani-intr-un-material-de-gabriel-berceanu-exclusiv-20269549 digisport prosport\n",
      "\n",
      "🧠 Cluster #1 — Score: 0.496\n",
      "\n",
      "🧠 Cluster #2 — Score: 0.256\n",
      "\n",
      "🧠 Cluster #3 — Score: 0.256\n",
      "\n",
      "🔍 Matched Clusters Across Multiple Sites\n",
      "============================================================\n",
      "\n",
      "🧠 Cluster #3 — Score: 0.256 — Sites: prosport, digisport\n",
      "------------------------------------------------------------\n",
      "📰 Adrian Mititelu a răbufnit, după ce FRF a exclus-o pe FCU Craiova din toate competițiile\n",
      "🔗 https://www.digisport.ro/fotbal/liga-a-3-a/adrian-mititelu-a-rabufnit-dupa-ce-frf-a-exclus-o-pe-fcu-craiova-din-toate-competitiile-3800261\n",
      "🔑 Keywords: adrian, mititelu, celor, anunțat, marți, septembrie, excluderea, craiova, gruparea, patronată\n",
      "🏷️ Entities: FCU Craiova, Adrian Mititelu\n",
      "------------------------------------------------------------\n",
      "📰 Blănuță, reacție imediată după ce FCU Craiova a fost exclusă din fotbal. Mesaj pentru Mititelu\n",
      "🔗 https://www.prosport.ro/fotbal-intern/blanuta-reactie-imediata-dupa-ce-fcu-craiova-a-fost-exclusa-din-fotbal-mesaj-pentru-mititelu-20269868\n",
      "🔑 Keywords: vladislav, blănuță, oferit, reacție, fulger, miercuri, septembrie, echipa, fotbal, craiova\n",
      "🏷️ Entities: Vladislav Blănuță, Craiova\n",
      "------------------------------------------------------------\n"
     ]
    }
   ],
   "source": [
    "from story_clusterer import StoryClusterer\n",
    "\n",
    "clusterer = StoryClusterer(sites, 180, 0.3, 0.4)\n",
    "clusterer.cluster_stories()\n",
    "\n",
    "clusterer.print_matched_clusters()"
   ]
  },
  {
   "cell_type": "code",
   "execution_count": 7,
   "outputs": [],
   "source": [
    "\n",
    "top_stories = clusterer.score_clusters()\n",
    "\n",
    "for i, story in enumerate(top_stories[:5], 1):\n",
    "    print(f\"\\n🏆 Top {i} — Score: {story['score']}\")\n",
    "    for article in story[\"articles\"]:\n",
    "        print(f\"- {article.site}: {article.title}\")\n"
   ],
   "metadata": {
    "collapsed": false,
    "ExecuteTime": {
     "end_time": "2025-09-10T09:05:21.582182400Z",
     "start_time": "2025-09-10T09:05:21.570840500Z"
    }
   },
   "id": "f9070c77d65c7cee"
  },
  {
   "cell_type": "code",
   "execution_count": 4,
   "outputs": [],
   "source": [],
   "metadata": {
    "collapsed": false,
    "ExecuteTime": {
     "end_time": "2025-09-10T09:03:17.856310600Z",
     "start_time": "2025-09-10T09:03:17.846708600Z"
    }
   },
   "id": "647a7a3d0d323358"
  }
 ],
 "metadata": {
  "kernelspec": {
   "display_name": "Python 3 (ipykernel)",
   "language": "python",
   "name": "python3"
  },
  "language_info": {
   "codemirror_mode": {
    "name": "ipython",
    "version": 3
   },
   "file_extension": ".py",
   "mimetype": "text/x-python",
   "name": "python",
   "nbconvert_exporter": "python",
   "pygments_lexer": "ipython3",
   "version": "3.11.0"
  }
 },
 "nbformat": 4,
 "nbformat_minor": 5
}
