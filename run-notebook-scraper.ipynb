{
 "cells": [
  {
   "cell_type": "code",
   "execution_count": 4,
   "id": "initial_id",
   "metadata": {
    "collapsed": true,
    "jupyter": {
     "outputs_hidden": true
    },
    "ExecuteTime": {
     "end_time": "2025-10-05T08:28:19.396925200Z",
     "start_time": "2025-10-05T08:28:19.372535900Z"
    }
   },
   "outputs": [],
   "source": [
    "# from model.model_type import ModelType\n",
    "from service.site_scraper import SiteScraper\n",
    "\n",
    "gsp_scraper = SiteScraper(\n",
    "    name=\"gsp\",\n",
    "    base_url=\"https://www.gsp.ro\",\n",
    "    traffic=3.6,\n",
    "    time_selector=\"p.data-author\",\n",
    "    block_selector=\"div.news-item\",\n",
    "    link_selector=\"h2 a\",\n",
    "    title_strategy=\"text\"\n",
    ")\n",
    "\n",
    "digisport_scraper = SiteScraper(\n",
    "    name=\"digisport\",\n",
    "    base_url=\"https://www.digisport.ro\",\n",
    "    traffic=3.3,\n",
    "    time_selector=\"cite\",\n",
    "    block_selector=\"article.article\",\n",
    "    link_selector=\"a.article-link, h3 a.widget-latest-list-item-link\",\n",
    "    title_strategy=\"attribute\",\n",
    "    title_attribute=\"title\",\n",
    "    # model=ModelType.SPACY\n",
    ")\n",
    "\n",
    "fanatik_scraper = SiteScraper(\n",
    "    name=\"fanatik\",\n",
    "    base_url=\"https://www.fanatik.ro\",\n",
    "    traffic=2.9,  # Estimated, adjust as needed\n",
    "    time_selector=\"span.date\",  # Often used near article blocks\n",
    "    block_selector=\"div.article\",  # Container for each article\n",
    "    link_selector=\"h3 a\",  # Headline links\n",
    "    title_strategy=\"text\",\n",
    "    # model=ModelType.GPT\n",
    ")\n",
    "\n",
    "prosport_scraper = SiteScraper(\n",
    "    name=\"prosport\",\n",
    "    base_url=\"https://www.prosport.ro\",\n",
    "    traffic=3.1,\n",
    "    time_selector=\"span.date\",\n",
    "    block_selector=\"h2.article__title\",  # Directly targets the title block\n",
    "    link_selector=\"a\",  # The anchor inside the h2\n",
    "    title_strategy=\"text\",\n",
    "    # model=ModelType.CLAUDE\n",
    ")\n",
    "\n",
    "sites = [gsp_scraper, digisport_scraper, fanatik_scraper, prosport_scraper]\n",
    "# sites = [prosport_scraper]\n",
    "total_traffic = sum(site.traffic for site in sites)"
   ]
  },
  {
   "cell_type": "code",
   "execution_count": 8,
   "id": "ea6800b5104ac3e6",
   "metadata": {
    "collapsed": false,
    "ExecuteTime": {
     "end_time": "2025-10-05T08:35:23.385050300Z",
     "start_time": "2025-10-05T08:32:54.295220800Z"
    }
   },
   "outputs": [
    {
     "name": "stdout",
     "output_type": "stream",
     "text": [
      "Error, response code: 511 for Flash News: Cele mai noi informații din sport\n"
     ]
    }
   ],
   "source": [
    "for site in sites:\n",
    "    site.compute_weight(total_traffic)\n",
    "    site.scrape_recent_articles(minutes=360)\n",
    "    # site.save_to_csv()\n",
    "    # site.short_print()\n"
   ]
  },
  {
   "cell_type": "code",
   "execution_count": 9,
   "outputs": [],
   "source": [
    "for site in sites:\n",
    "    site.save_to_csv()\n",
    "    # site.short_print()"
   ],
   "metadata": {
    "collapsed": false,
    "ExecuteTime": {
     "end_time": "2025-10-05T08:56:34.139875200Z",
     "start_time": "2025-10-05T08:56:34.107306400Z"
    }
   },
   "id": "63973d2eecbc43b3"
  },
  {
   "cell_type": "code",
   "execution_count": 10,
   "id": "c4b154155beba4cd",
   "metadata": {
    "collapsed": false,
    "ExecuteTime": {
     "end_time": "2025-10-05T08:56:37.498291800Z",
     "start_time": "2025-10-05T08:56:37.232136300Z"
    }
   },
   "outputs": [
    {
     "name": "stdout",
     "output_type": "stream",
     "text": [
      "\n",
      "🧠 Cluster #1 — Score: 0.535\n",
      "\n",
      "🧠 Cluster #2 — Score: 0.535\n",
      "\n",
      "🧠 Cluster #3 — Score: 0.496\n",
      "\n",
      "🔍 Matched Clusters Across Multiple Sites\n",
      "============================================================\n",
      "\n",
      "🧠 Cluster #1 — Score: 0.535 — Sites: gsp, digisport\n",
      "------------------------------------------------------------\n",
      "📰 Victor Angelescu a spus clar: ce rezultat vrea la FCSB - Universitatea Craiova\n",
      "🔗 https://www.digisport.ro/fotbal/liga-1/victor-angelescu-a-spus-clar-ce-rezultat-vrea-la-fcsb-universitatea-craiova-3845331\n",
      "🔑 Keywords: ierarhiei, meci, primul loc, scor, urcat, victorie, înscris, învins\n",
      "🏷️ Entities: Alex Dobre, Elvir Koljic, Farul, Giulești, Ionuț Vînă, Rapid, SuperLigă, dobrogeni, giuleșteni\n",
      "------------------------------------------------------------\n",
      "📰 Cristi Manea a spus ce rezultat vrea la FCSB - Craiova: „Sincer să vă zic...”\n",
      "🔗 https://www.gsp.ro/fotbal/liga-1/cristi-manea-reactie-rapid-farul-850488.html\n",
      "🔑 Keywords: fundașul dreapta, partidă, reacție, rezultat vrea, subiecte\n",
      "🏷️ Entities: Cristi Manea, FCSB, Farul, Rapid, Universitatea Craiova\n",
      "------------------------------------------------------------\n",
      "\n",
      "🧠 Cluster #2 — Score: 0.535 — Sites: gsp, digisport\n",
      "------------------------------------------------------------\n",
      "📰 ”Știu ce calități am”. Dennis Man a reacționat, după primul gol în tricoul lui PSV\n",
      "🔗 https://www.digisport.ro/fotbal/stiu-ce-calitati-am-dennis-man-a-reactionat-dupa-primul-gol-in-tricoul-lui-psv-3845553\n",
      "🔑 Keywords: -, 4, campioana, golul, meci, pasă de gol, premieră, reușita, înscris\n",
      "🏷️ Entities: Dennis Man, Joey Veerman, Olandei, PSV, Zwolle\n",
      "------------------------------------------------------------\n",
      "📰 Dennis Man s-a descătușat după primul gol la PSV și s-a destăinuit în fața jurnaliștilor » Prin ce a trecut în primele săptămâni în Olanda\n",
      "🔗 https://www.gsp.ro/international/campionate/reactie-dennis-man-primul-gol-inscris-la-psv-850557.html\n",
      "🔑 Keywords: campionatul, dificile, gol, meci, noua, partidă, pasă decisivă, reacție jurnaliștilor, succesul, transferat, început complicat\n",
      "🏷️ Entities: Internaționalul român Dennis Man, Olandei, PSV, Parma, Zwolle, olandezi\n",
      "------------------------------------------------------------\n",
      "\n",
      "🧠 Cluster #3 — Score: 0.496 — Sites: prosport, digisport\n",
      "------------------------------------------------------------\n",
      "📰 Fiica ”celui mai mare interlop al țării” a văzut ce a făcut iubitul ei, a filmat totul și a pus clipul pe internet\n",
      "🔗 https://www.digisport.ro/fotbal/la-liga/fiica-celui-mai-mare-interlop-al-tarii-a-vazut-ce-a-facut-iubitul-ei-a-filmat-totul-si-a-pus-clipul-pe-internet-3845581\n",
      "🔑 Keywords: etapa, gol superb, marcat, milioane de euro, numărul 8, transferat, victoria echipei\n",
      "🏷️ Entities: Dinamo Kiev, Girona, La Liga, Valencia, Vladyslav Vanat\n",
      "------------------------------------------------------------\n",
      "📰 Fiica ”celui mai mare interlop al țării” a văzut ce a făcut iubitul ei, a filmat totul și a pus clipul pe internet\n",
      "🔗 https://www.digisport.ro/fotbal/la-liga/fiica-celui-mai-mare-interlop-al-tarii-a-vazut-ce-a-facut-iubitul-ei-a-filmat-totul-si-a-pus-clipul-pe-internet-3845581?utm_source=Digisport+HP+2&utm_medium=website&utm_campaign=fidmee\n",
      "🔑 Keywords: etapa, gol superb, marcat, milioane de euro, numărul 8, transferat, victoria echipei\n",
      "🏷️ Entities: Dinamo Kiev, Girona, La Liga, Valencia, Vladyslav Vanat\n",
      "------------------------------------------------------------\n"
     ]
    }
   ],
   "source": [
    "from service.story_clusterer import StoryClusterer\n",
    "\n",
    "clusterer = StoryClusterer(sites, 360, 0.3, 0.2)\n",
    "clusterer.cluster_stories()\n",
    "\n",
    "clusterer.print_matched_clusters()"
   ]
  },
  {
   "cell_type": "code",
   "execution_count": 11,
   "outputs": [
    {
     "name": "stdout",
     "output_type": "stream",
     "text": [
      "\n",
      "🏆 Top 1 — Score: 0.535\n",
      "- digisport: Victor Angelescu a spus clar: ce rezultat vrea la FCSB - Universitatea Craiova\n",
      "- gsp: Cristi Manea a spus ce rezultat vrea la FCSB - Craiova: „Sincer să vă zic...”\n",
      "\n",
      "🏆 Top 2 — Score: 0.535\n",
      "- digisport: ”Știu ce calități am”. Dennis Man a reacționat, după primul gol în tricoul lui PSV\n",
      "- gsp: Dennis Man s-a descătușat după primul gol la PSV și s-a destăinuit în fața jurnaliștilor » Prin ce a trecut în primele săptămâni în Olanda\n",
      "\n",
      "🏆 Top 3 — Score: 0.496\n",
      "- digisport: Fiica ”celui mai mare interlop al țării” a văzut ce a făcut iubitul ei, a filmat totul și a pus clipul pe internet\n",
      "- prosport: Fiica ”celui mai mare interlop al țării” a văzut ce a făcut iubitul ei, a filmat totul și a pus clipul pe internet\n"
     ]
    }
   ],
   "source": [
    "\n",
    "top_stories = clusterer.score_clusters()\n",
    "\n",
    "for i, story in enumerate(top_stories[:5], 1):\n",
    "    print(f\"\\n🏆 Top {i} — Score: {story['score']}\")\n",
    "    for article in story[\"articles\"]:\n",
    "        print(f\"- {article.site}: {article.title}\")\n"
   ],
   "metadata": {
    "collapsed": false,
    "ExecuteTime": {
     "end_time": "2025-10-05T08:56:50.573999300Z",
     "start_time": "2025-10-05T08:56:50.546926600Z"
    }
   },
   "id": "f9070c77d65c7cee"
  },
  {
   "cell_type": "code",
   "execution_count": null,
   "outputs": [],
   "source": [],
   "metadata": {
    "collapsed": false
   },
   "id": "51664b98ed15c05d"
  }
 ],
 "metadata": {
  "kernelspec": {
   "display_name": "Python 3 (ipykernel)",
   "language": "python",
   "name": "python3"
  },
  "language_info": {
   "codemirror_mode": {
    "name": "ipython",
    "version": 3
   },
   "file_extension": ".py",
   "mimetype": "text/x-python",
   "name": "python",
   "nbconvert_exporter": "python",
   "pygments_lexer": "ipython3",
   "version": "3.11.0"
  }
 },
 "nbformat": 4,
 "nbformat_minor": 5
}
