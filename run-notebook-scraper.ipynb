{
 "cells": [
  {
   "cell_type": "code",
   "execution_count": 9,
   "id": "initial_id",
   "metadata": {
    "collapsed": true,
    "jupyter": {
     "outputs_hidden": true
    },
    "ExecuteTime": {
     "end_time": "2025-10-08T10:33:12.266886700Z",
     "start_time": "2025-10-08T10:33:12.239841600Z"
    }
   },
   "outputs": [],
   "source": [
    "# from model.model_type import ModelType\n",
    "from service.site_scraper import SiteScraper\n",
    "\n",
    "gsp_scraper = SiteScraper(\n",
    "    name=\"gsp\",\n",
    "    base_url=\"https://www.gsp.ro\",\n",
    "    traffic=3.6,\n",
    "    time_selector=\"p.data-author\",\n",
    "    block_selector=\"div.news-item\",\n",
    "    link_selector=\"h2 a\",\n",
    "    title_strategy=\"text\"\n",
    ")\n",
    "\n",
    "digisport_scraper = SiteScraper(\n",
    "    name=\"digisport\",\n",
    "    base_url=\"https://www.digisport.ro\",\n",
    "    traffic=3.3,\n",
    "    time_selector=\"cite\",\n",
    "    block_selector=\"article.article\",\n",
    "    link_selector=\"a.article-link, h3 a.widget-latest-list-item-link\",\n",
    "    title_strategy=\"attribute\",\n",
    "    title_attribute=\"title\",\n",
    "    # model=ModelType.SPACY\n",
    ")\n",
    "\n",
    "fanatik_scraper = SiteScraper(\n",
    "    name=\"fanatik\",\n",
    "    base_url=\"https://www.fanatik.ro\",\n",
    "    traffic=2.9,  # Estimated, adjust as needed\n",
    "    time_selector=\"span.date\",  # Often used near article blocks\n",
    "    block_selector=\"div.article\",  # Container for each article\n",
    "    link_selector=\"h3 a\",  # Headline links\n",
    "    title_strategy=\"text\",\n",
    "    # model=ModelType.GPT\n",
    ")\n",
    "\n",
    "prosport_scraper = SiteScraper(\n",
    "    name=\"prosport\",\n",
    "    base_url=\"https://www.prosport.ro\",\n",
    "    traffic=3.1,\n",
    "    time_selector=\"span.date\",\n",
    "    block_selector=\"h2.article__title\",  # Directly targets the title block\n",
    "    link_selector=\"a\",  # The anchor inside the h2\n",
    "    title_strategy=\"text\",\n",
    "    # model=ModelType.CLAUDE\n",
    ")\n",
    "\n",
    "sites = [gsp_scraper, digisport_scraper, fanatik_scraper, prosport_scraper]\n",
    "# sites = [prosport_scraper]\n",
    "total_traffic = sum(site.traffic for site in sites)"
   ]
  },
  {
   "cell_type": "code",
   "execution_count": 10,
   "id": "ea6800b5104ac3e6",
   "metadata": {
    "collapsed": false,
    "ExecuteTime": {
     "end_time": "2025-10-08T10:35:56.725319Z",
     "start_time": "2025-10-08T10:33:33.167160300Z"
    }
   },
   "outputs": [],
   "source": [
    "for site in sites:\n",
    "    site.compute_weight(total_traffic)\n",
    "    site.scrape_recent_articles(minutes=360)\n",
    "    # site.save_to_csv()\n",
    "    # site.short_print()\n"
   ]
  },
  {
   "cell_type": "code",
   "execution_count": 11,
   "outputs": [],
   "source": [
    "for site in sites:\n",
    "    site.save_to_csv()\n",
    "    # site.short_print()"
   ],
   "metadata": {
    "collapsed": false,
    "ExecuteTime": {
     "end_time": "2025-10-08T10:38:12.606587Z",
     "start_time": "2025-10-08T10:38:12.582665Z"
    }
   },
   "id": "63973d2eecbc43b3"
  },
  {
   "cell_type": "code",
   "execution_count": 12,
   "id": "c4b154155beba4cd",
   "metadata": {
    "collapsed": false,
    "ExecuteTime": {
     "end_time": "2025-10-08T10:38:16.824882200Z",
     "start_time": "2025-10-08T10:38:16.627613700Z"
    }
   },
   "outputs": [
    {
     "name": "stdout",
     "output_type": "stream",
     "text": [
      "Shared article https://www.fanatik.ro/strigat-de-disperare-pentru-ajutorarea-lui-cornel-dinu-situatia-grea-pe-care-o-traverseaza-legenda-lui-dinamo-e-cazut-psihic-21289689 on digisport - fanatik skipped https://www.fanatik.ro/strigat-de-disperare-pentru-ajutorarea-lui-cornel-dinu-situatia-grea-pe-care-o-traverseaza-legenda-lui-dinamo-e-cazut-psihic-21289689 digisport fanatik\n",
      "Shared article https://www.prosport.ro/fotbal-intern/superliga/gigi-becali-l-a-facut-praf-pe-costel-galca-eu-sunt-imparatul-ii-faceam-schimbarile-din-puscarie-falsitatea-lui-m-a-deranjat-exclusiv-20292961 on digisport - prosport skipped https://www.prosport.ro/fotbal-intern/superliga/gigi-becali-l-a-facut-praf-pe-costel-galca-eu-sunt-imparatul-ii-faceam-schimbarile-din-puscarie-falsitatea-lui-m-a-deranjat-exclusiv-20292961 digisport prosport\n",
      "\n",
      "🧠 Cluster #1 — Score: 0.519\n",
      "\n",
      "🧠 Cluster #2 — Score: 0.504\n",
      "\n",
      "🧠 Cluster #3 — Score: 0.496\n",
      "\n",
      "🧠 Cluster #4 — Score: 0.481\n",
      "\n",
      "🧠 Cluster #5 — Score: 0.256\n",
      "\n",
      "🧠 Cluster #6 — Score: 0.256\n",
      "\n",
      "🔍 Matched Clusters Across Multiple Sites\n",
      "============================================================\n",
      "\n",
      "🧠 Cluster #1 — Score: 0.519 — Sites: gsp, fanatik\n",
      "------------------------------------------------------------\n",
      "📰 Ilie Dumitrescu a dat verdictul: cele 5 echipe din SuperLiga care prind 100% play-off-ul. Cine iese din schemă\n",
      "🔗 https://www.fanatik.ro/ilie-dumitrescu-a-dat-verdictul-cele-5-echipe-din-superliga-care-prind-100-play-off-ul-cine-iese-din-schema-21290692\n",
      "🔑 Keywords: echipele, fotbalist, mențină ritmul, play - off, topul formațiilor, șanse\n",
      "🏷️ Entities: Ilie Dumitrescu\n",
      "------------------------------------------------------------\n",
      "📰 Ilie Dumitrescu a numit 5 din cele șase echipe care vor fi în play-off: „Avem așa”\n",
      "🔗 https://www.gsp.ro/fotbal/liga-1/ilie-dumitrescu-play-off-superliga-fcsb-dinamo-rapid-851594.html\n",
      "🔑 Keywords: analizat lupta, echipe, exclus, formații, loc, play - off, start, șase\n",
      "🏷️ Entities: Ilie Dumitrescu, Superligii\n",
      "------------------------------------------------------------\n",
      "\n",
      "🧠 Cluster #2 — Score: 0.504 — Sites: gsp, prosport\n",
      "------------------------------------------------------------\n",
      "📰 Cine transmite la TV România – Moldova\n",
      "🔗 https://www.prosport.ro/fotbal-intern/nationala/cine-transmite-la-tv-romania-moldova-20292914\n",
      "🔑 Keywords: TV, amical, direct, transmis\n",
      "🏷️ Entities: România - Moldova, țara noastră\n",
      "------------------------------------------------------------\n",
      "📰 Cine transmite la TV amicalul România - Moldova » Moment istoric la București\n",
      "🔗 https://www.gsp.ro/fotbal/nationala/cine-transmite-la-tv-amicalul-romania-moldova-851524.html\n",
      "🔑 Keywords: amical, imagini, informații în timp real, stadion, transmis liveTEXT\n",
      "🏷️ Entities: Arena Națională, GSP . ro, România - Moldova\n",
      "------------------------------------------------------------\n",
      "\n",
      "🧠 Cluster #5 — Score: 0.256 — Sites: fanatik, digisport\n",
      "------------------------------------------------------------\n",
      "📰 Lovitură pentru Barcelona? Adversara din Liga Campionilor, gata să cumpere un jucător al lui Hansi Flick\n",
      "🔗 https://www.digisport.ro/fotbal/la-liga/lovitura-pentru-barcelona-adversara-din-liga-campionilor-gata-sa-cumpere-un-jucator-al-lui-hansi-flick-3851039\n",
      "🔑 Keywords: iarnă, jucător important, perioada de transferuri, pierde\n",
      "🏷️ Entities: Barcelona\n",
      "------------------------------------------------------------\n",
      "📰 Veste mare pentru Dani Alves, la șapte luni după ce a fost achitat de acuzația de viol și a ieșit din închisoare\n",
      "🔗 https://www.fanatik.ro/veste-mare-pentru-dani-alves-la-sapte-luni-dupa-ce-a-fost-achitat-de-acuzatia-de-viol-si-a-iesit-din-inchisoare-21290608\n",
      "🔑 Keywords: Tribunal, agresiune sexuală, ani, condamnat, judecători, vinovat, închisoare\n",
      "🏷️ Entities: Barcelona\n",
      "------------------------------------------------------------\n",
      "\n",
      "🧠 Cluster #6 — Score: 0.256 — Sites: prosport, digisport\n",
      "------------------------------------------------------------\n",
      "📰 Adrian Petre și-a relansat cariera! 6 goluri în 7 meciuri: \"Încep să-mi revin\"\n",
      "🔗 https://www.digisport.ro/fotbal/liga-a-3-a/adrian-petre-si-a-relansat-cariera-6-goluri-in-7-meciuri-incep-sa-mi-revin-3850827\n",
      "🔑 Keywords: contract, despărțirea, formație, formei, nefericiți, semnat, trecut, împlinit, înțeles\n",
      "🏷️ Entities: Adrian Petre, CS Păulești, Concordia Chiajna, FCSB, Liga 3\n",
      "------------------------------------------------------------\n",
      "📰 Adrian Petre și-a relansat cariera! 6 goluri în 7 meciuri: \"Încep să-mi revin\"\n",
      "🔗 https://www.digisport.ro/fotbal/liga-a-3-a/adrian-petre-si-a-relansat-cariera-6-goluri-in-7-meciuri-incep-sa-mi-revin-3850827?utm_source=Digisport+HP+2&utm_medium=website&utm_campaign=fidmee\n",
      "🔑 Keywords: contract, despărțirea, formație, formei, nefericiți, semnat, trecut, împlinit, înțeles\n",
      "🏷️ Entities: Adrian Petre, CS Păulești, Concordia Chiajna, FCSB, Liga 3\n",
      "------------------------------------------------------------\n"
     ]
    }
   ],
   "source": [
    "from service.story_clusterer import StoryClusterer\n",
    "\n",
    "clusterer = StoryClusterer(sites, 360, 0.3, 0.2)\n",
    "clusterer.cluster_stories()\n",
    "\n",
    "clusterer.print_matched_clusters()"
   ]
  },
  {
   "cell_type": "code",
   "execution_count": 14,
   "outputs": [
    {
     "name": "stdout",
     "output_type": "stream",
     "text": [
      "\n",
      "🏆 Top 1 — Score: 0.519\n",
      "- prosport: Cine transmite la TV România – Moldova\n",
      "- gsp: Cine transmite la TV amicalul România - Moldova » Moment istoric la București\n",
      "\n",
      "🏆 Top 2 — Score: 0.504\n",
      "- fanatik: Ilie Dumitrescu a dat verdictul: cele 5 echipe din SuperLiga care prind 100% play-off-ul. Cine iese din schemă\n",
      "- gsp: Ilie Dumitrescu a numit 5 din cele șase echipe care vor fi în play-off: „Avem așa”\n",
      "\n",
      "🏆 Top 3 — Score: 0.496\n",
      "- digisport: Adrian Petre și-a relansat cariera! 6 goluri în 7 meciuri: \"Încep să-mi revin\"\n",
      "- prosport: Adrian Petre și-a relansat cariera! 6 goluri în 7 meciuri: \"Încep să-mi revin\"\n",
      "\n",
      "🏆 Top 4 — Score: 0.481\n",
      "- digisport: Lovitură pentru Barcelona? Adversara din Liga Campionilor, gata să cumpere un jucător al lui Hansi Flick\n",
      "- fanatik: Veste mare pentru Dani Alves, la șapte luni după ce a fost achitat de acuzația de viol și a ieșit din închisoare\n",
      "\n",
      "🏆 Top 5 — Score: 0.256\n",
      "- digisport: Strigăt de disperare pentru ajutorarea lui Cornel Dinu. Situația grea pe care o traversează legenda lui Dinamo: „E căzut psihic”\n"
     ]
    }
   ],
   "source": [
    "\n",
    "top_stories = clusterer.score_clusters()\n",
    "\n",
    "for i, story in enumerate(top_stories[:5], 1):\n",
    "    print(f\"\\n🏆 Top {i} — Score: {story['score']}\")\n",
    "    for article in story[\"articles\"]:\n",
    "        print(f\"- {article.site}: {article.title}\")\n"
   ],
   "metadata": {
    "collapsed": false,
    "ExecuteTime": {
     "end_time": "2025-10-08T10:38:53.134757400Z",
     "start_time": "2025-10-08T10:38:53.121427800Z"
    }
   },
   "id": "f9070c77d65c7cee"
  }
 ],
 "metadata": {
  "kernelspec": {
   "display_name": "Python 3 (ipykernel)",
   "language": "python",
   "name": "python3"
  },
  "language_info": {
   "codemirror_mode": {
    "name": "ipython",
    "version": 3
   },
   "file_extension": ".py",
   "mimetype": "text/x-python",
   "name": "python",
   "nbconvert_exporter": "python",
   "pygments_lexer": "ipython3",
   "version": "3.11.0"
  }
 },
 "nbformat": 4,
 "nbformat_minor": 5
}
