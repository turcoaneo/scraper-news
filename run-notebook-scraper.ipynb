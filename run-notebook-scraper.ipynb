{
 "cells": [
  {
   "cell_type": "code",
   "execution_count": 2,
   "id": "initial_id",
   "metadata": {
    "collapsed": true,
    "jupyter": {
     "outputs_hidden": true
    },
    "ExecuteTime": {
     "end_time": "2025-10-04T14:19:25.432779Z",
     "start_time": "2025-10-04T14:19:14.620182300Z"
    }
   },
   "outputs": [],
   "source": [
    "# from model.model_type import ModelType\n",
    "from service.site_scraper import SiteScraper\n",
    "\n",
    "gsp_scraper = SiteScraper(\n",
    "    name=\"gsp\",\n",
    "    base_url=\"https://www.gsp.ro\",\n",
    "    traffic=3.6,\n",
    "    time_selector=\"p.data-author\",\n",
    "    block_selector=\"div.news-item\",\n",
    "    link_selector=\"h2 a\",\n",
    "    title_strategy=\"text\"\n",
    ")\n",
    "\n",
    "digisport_scraper = SiteScraper(\n",
    "    name=\"digisport\",\n",
    "    base_url=\"https://www.digisport.ro\",\n",
    "    traffic=3.3,\n",
    "    time_selector=\"cite\",\n",
    "    block_selector=\"article.article\",\n",
    "    link_selector=\"a.article-link, h3 a.widget-latest-list-item-link\",\n",
    "    title_strategy=\"attribute\",\n",
    "    title_attribute=\"title\",\n",
    "    # model=ModelType.SPACY\n",
    ")\n",
    "\n",
    "fanatik_scraper = SiteScraper(\n",
    "    name=\"fanatik\",\n",
    "    base_url=\"https://www.fanatik.ro\",\n",
    "    traffic=2.9,  # Estimated, adjust as needed\n",
    "    time_selector=\"span.date\",  # Often used near article blocks\n",
    "    block_selector=\"div.article\",  # Container for each article\n",
    "    link_selector=\"h3 a\",  # Headline links\n",
    "    title_strategy=\"text\",\n",
    "    # model=ModelType.GPT\n",
    ")\n",
    "\n",
    "prosport_scraper = SiteScraper(\n",
    "    name=\"prosport\",\n",
    "    base_url=\"https://www.prosport.ro\",\n",
    "    traffic=3.1,\n",
    "    time_selector=\"span.date\",\n",
    "    block_selector=\"h2.article__title\",  # Directly targets the title block\n",
    "    link_selector=\"a\",  # The anchor inside the h2\n",
    "    title_strategy=\"text\",\n",
    "    # model=ModelType.CLAUDE\n",
    ")\n",
    "\n",
    "sites = [gsp_scraper, digisport_scraper, fanatik_scraper, prosport_scraper]\n",
    "# sites = [prosport_scraper]\n",
    "total_traffic = sum(site.traffic for site in sites)"
   ]
  },
  {
   "cell_type": "code",
   "execution_count": 3,
   "id": "ea6800b5104ac3e6",
   "metadata": {
    "collapsed": false,
    "ExecuteTime": {
     "end_time": "2025-10-04T14:22:26.472549900Z",
     "start_time": "2025-10-04T14:19:33.035607900Z"
    }
   },
   "outputs": [],
   "source": [
    "for site in sites:\n",
    "    site.compute_weight(total_traffic)\n",
    "    site.scrape_recent_articles(minutes=60)\n",
    "    # site.save_to_csv()\n",
    "    # site.short_print()\n"
   ]
  },
  {
   "cell_type": "code",
   "execution_count": 4,
   "outputs": [],
   "source": [
    "for site in sites:\n",
    "    site.save_to_csv()\n",
    "    # site.short_print()"
   ],
   "metadata": {
    "collapsed": false,
    "ExecuteTime": {
     "end_time": "2025-10-04T14:22:38.872403500Z",
     "start_time": "2025-10-04T14:22:38.821311300Z"
    }
   },
   "id": "63973d2eecbc43b3"
  },
  {
   "cell_type": "code",
   "execution_count": 5,
   "id": "c4b154155beba4cd",
   "metadata": {
    "collapsed": false,
    "ExecuteTime": {
     "end_time": "2025-10-04T14:23:14.466702100Z",
     "start_time": "2025-10-04T14:23:14.323197100Z"
    }
   },
   "outputs": [
    {
     "name": "stdout",
     "output_type": "stream",
     "text": [
      "Shared article https://www.prosport.ro/fotbal-intern/superliga/i-au-facut-lista-de-transferuri-lui-gigi-becali-in-direct-acolo-e-nevoie-de-jucatori-fotbalistul-preferat-al-patronului-de-la-fcsb-entuziasmat-exclusiv-20289509 on digisport - prosport skipped https://www.prosport.ro/fotbal-intern/superliga/i-au-facut-lista-de-transferuri-lui-gigi-becali-in-direct-acolo-e-nevoie-de-jucatori-fotbalistul-preferat-al-patronului-de-la-fcsb-entuziasmat-exclusiv-20289509 digisport prosport\n",
      "\n",
      "🧠 Cluster #1 — Score: 0.519\n",
      "\n",
      "🧠 Cluster #2 — Score: 0.496\n",
      "\n",
      "🧠 Cluster #3 — Score: 0.256\n",
      "\n",
      "🔍 Matched Clusters Across Multiple Sites\n",
      "============================================================\n",
      "\n",
      "🧠 Cluster #1 — Score: 0.519 — Sites: gsp, prosport\n",
      "------------------------------------------------------------\n",
      "📰 Mihaela Cambei e campioană mondială! A luat aurul și încă două medalii de argint în Norvegia\n",
      "🔗 https://www.prosport.ro/alte-sporturi/mihaela-cambei-e-campioana-mondiala-a-luat-aurul-si-inca-doua-medalii-de-argint-in-norvegia-20289305\n",
      "🔑 Keywords: cont, câștigat medalia de aur, medalii de argint, trecut\n",
      "🏷️ Entities: Halterofila română Mihaela Cambei, Norvegia\n",
      "------------------------------------------------------------\n",
      "📰 Mihaela Cambei, un aur și două medalii de argint în cadrul Campionatelor Mondiale din Norvegia\n",
      "🔗 https://www.gsp.ro/sporturi/altele/mihaela-cambei-un-aur-si-doua-medalii-de-argint-in-cadrul-campionatelor-mondiale-din-norvegia-849936.html\n",
      "🔑 Keywords: aur, medalii de argint\n",
      "🏷️ Entities: Campionatelor Mondiale, Mihaela Cambei, Norvegia\n",
      "------------------------------------------------------------\n",
      "\n",
      "🧠 Cluster #3 — Score: 0.256 — Sites: digisport, prosport\n",
      "------------------------------------------------------------\n",
      "📰 După super-golul din lovitură liberă, Ianis Hagi a fost iar decisiv în Turcia! Nota primită\n",
      "🔗 https://www.digisport.ro/fotbal/super-lig/dupa-super-golul-din-lovitura-libera-ianis-hagi-a-fost-iar-decisiv-in-turcia-nota-primita-3844399\n",
      "🔑 Keywords: prim meci reușit, remiza\n",
      "🏷️ Entities: Alanyaspor, Genclerbirligi, Ianis Hagi\n",
      "------------------------------------------------------------\n",
      "📰 Nota lui Ianis Hagi după ce a marcat un gol fabulos și are Turcia la picioare\n",
      "🔗 https://www.prosport.ro/fotbal-extern/stranieri/nota-lui-ianis-hagi-dupa-ce-a-marcat-un-gol-fabulos-si-are-turcia-la-picioare-20289807\n",
      "🔑 Keywords: evoluție spectaculoasă, meciul, notă, teren, titular\n",
      "🏷️ Entities: Alanyaspor, Genclerbirligi, Ianis Hagi\n",
      "------------------------------------------------------------\n"
     ]
    }
   ],
   "source": [
    "from service.story_clusterer import StoryClusterer\n",
    "\n",
    "clusterer = StoryClusterer(sites, 360, 0.3, 0.2)\n",
    "clusterer.cluster_stories()\n",
    "\n",
    "clusterer.print_matched_clusters()"
   ]
  },
  {
   "cell_type": "code",
   "execution_count": null,
   "outputs": [],
   "source": [
    "\n",
    "top_stories = clusterer.score_clusters()\n",
    "\n",
    "for i, story in enumerate(top_stories[:5], 1):\n",
    "    print(f\"\\n🏆 Top {i} — Score: {story['score']}\")\n",
    "    for article in story[\"articles\"]:\n",
    "        print(f\"- {article.site}: {article.title}\")\n"
   ],
   "metadata": {
    "collapsed": false,
    "ExecuteTime": {
     "start_time": "2025-10-04T10:47:27.319481400Z"
    }
   },
   "id": "f9070c77d65c7cee"
  }
 ],
 "metadata": {
  "kernelspec": {
   "display_name": "Python 3 (ipykernel)",
   "language": "python",
   "name": "python3"
  },
  "language_info": {
   "codemirror_mode": {
    "name": "ipython",
    "version": 3
   },
   "file_extension": ".py",
   "mimetype": "text/x-python",
   "name": "python",
   "nbconvert_exporter": "python",
   "pygments_lexer": "ipython3",
   "version": "3.11.0"
  }
 },
 "nbformat": 4,
 "nbformat_minor": 5
}
