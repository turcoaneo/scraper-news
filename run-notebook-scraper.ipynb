{
 "cells": [
  {
   "cell_type": "code",
   "execution_count": 1,
   "id": "initial_id",
   "metadata": {
    "collapsed": true,
    "jupyter": {
     "outputs_hidden": true
    },
    "ExecuteTime": {
     "end_time": "2025-10-07T09:04:04.538188700Z",
     "start_time": "2025-10-07T09:03:52.626826200Z"
    }
   },
   "outputs": [],
   "source": [
    "# from model.model_type import ModelType\n",
    "from service.site_scraper import SiteScraper\n",
    "\n",
    "gsp_scraper = SiteScraper(\n",
    "    name=\"gsp\",\n",
    "    base_url=\"https://www.gsp.ro\",\n",
    "    traffic=3.6,\n",
    "    time_selector=\"p.data-author\",\n",
    "    block_selector=\"div.news-item\",\n",
    "    link_selector=\"h2 a\",\n",
    "    title_strategy=\"text\"\n",
    ")\n",
    "\n",
    "digisport_scraper = SiteScraper(\n",
    "    name=\"digisport\",\n",
    "    base_url=\"https://www.digisport.ro\",\n",
    "    traffic=3.3,\n",
    "    time_selector=\"cite\",\n",
    "    block_selector=\"article.article\",\n",
    "    link_selector=\"a.article-link, h3 a.widget-latest-list-item-link\",\n",
    "    title_strategy=\"attribute\",\n",
    "    title_attribute=\"title\",\n",
    "    # model=ModelType.SPACY\n",
    ")\n",
    "\n",
    "fanatik_scraper = SiteScraper(\n",
    "    name=\"fanatik\",\n",
    "    base_url=\"https://www.fanatik.ro\",\n",
    "    traffic=2.9,  # Estimated, adjust as needed\n",
    "    time_selector=\"span.date\",  # Often used near article blocks\n",
    "    block_selector=\"div.article\",  # Container for each article\n",
    "    link_selector=\"h3 a\",  # Headline links\n",
    "    title_strategy=\"text\",\n",
    "    # model=ModelType.GPT\n",
    ")\n",
    "\n",
    "prosport_scraper = SiteScraper(\n",
    "    name=\"prosport\",\n",
    "    base_url=\"https://www.prosport.ro\",\n",
    "    traffic=3.1,\n",
    "    time_selector=\"span.date\",\n",
    "    block_selector=\"h2.article__title\",  # Directly targets the title block\n",
    "    link_selector=\"a\",  # The anchor inside the h2\n",
    "    title_strategy=\"text\",\n",
    "    # model=ModelType.CLAUDE\n",
    ")\n",
    "\n",
    "sites = [gsp_scraper, digisport_scraper, fanatik_scraper, prosport_scraper]\n",
    "# sites = [prosport_scraper]\n",
    "total_traffic = sum(site.traffic for site in sites)"
   ]
  },
  {
   "cell_type": "code",
   "execution_count": 2,
   "id": "ea6800b5104ac3e6",
   "metadata": {
    "collapsed": false,
    "ExecuteTime": {
     "end_time": "2025-10-07T09:06:44.312955300Z",
     "start_time": "2025-10-07T09:04:04.541966900Z"
    }
   },
   "outputs": [],
   "source": [
    "for site in sites:\n",
    "    site.compute_weight(total_traffic)\n",
    "    site.scrape_recent_articles(minutes=360)\n",
    "    # site.save_to_csv()\n",
    "    # site.short_print()\n"
   ]
  },
  {
   "cell_type": "code",
   "execution_count": 3,
   "outputs": [],
   "source": [
    "for site in sites:\n",
    "    site.save_to_csv()\n",
    "    # site.short_print()"
   ],
   "metadata": {
    "collapsed": false,
    "ExecuteTime": {
     "end_time": "2025-10-07T09:06:44.339219900Z",
     "start_time": "2025-10-07T09:06:44.315957700Z"
    }
   },
   "id": "63973d2eecbc43b3"
  },
  {
   "cell_type": "code",
   "execution_count": 4,
   "id": "c4b154155beba4cd",
   "metadata": {
    "collapsed": false,
    "ExecuteTime": {
     "end_time": "2025-10-07T09:06:44.517572900Z",
     "start_time": "2025-10-07T09:06:44.342228200Z"
    }
   },
   "outputs": [
    {
     "name": "stdout",
     "output_type": "stream",
     "text": [
      "\n",
      "🧠 Cluster #1 — Score: 0.535\n",
      "\n",
      "🧠 Cluster #2 — Score: 0.504\n",
      "\n",
      "🧠 Cluster #3 — Score: 0.496\n",
      "\n",
      "🧠 Cluster #4 — Score: 0.496\n",
      "\n",
      "🔍 Matched Clusters Across Multiple Sites\n",
      "============================================================\n",
      "\n",
      "🧠 Cluster #1 — Score: 0.535 — Sites: gsp, fanatik\n",
      "------------------------------------------------------------\n",
      "📰 Schimbare de ultimă oră la echipa națională! Un fotbalist de la Rapid a fost convocat de urgență\n",
      "🔗 https://www.fanatik.ro/schimbare-de-ultima-ora-la-echipa-nationala-un-fotbalist-de-la-rapid-a-fost-convocat-de-urgenta-21289843\n",
      "🔑 Keywords: Modificare, accidentat grav, jucător, locul, lotul, ratează convocarea\n",
      "🏷️ Entities: FCSB, Universitatea Craiova, echipa rivală, naționalei României\n",
      "------------------------------------------------------------\n",
      "📰 OUT de la națională! Un fotbalist de la Rapid îi ia locul\n",
      "🔗 https://www.gsp.ro/fotbal/nationala/rares-pop-inlocuitor-mihnea-radulescu-romania-u21-851150.html\n",
      "🔑 Keywords: accidentat grav, derby, fotbalistul, înlocuiește\n",
      "🏷️ Entities: Arena Națională, FCSB, Federația Română de Fotbal, Mihnea Rădulescu, naționala U21\n",
      "------------------------------------------------------------\n",
      "\n",
      "🧠 Cluster #2 — Score: 0.504 — Sites: gsp, digisport\n",
      "------------------------------------------------------------\n",
      "📰 FRF a făcut calculele: „Cum se califică România direct la Campionatul Mondial”\n",
      "🔗 https://www.gsp.ro/fotbal/nationala/nationala-frf-calcule-calificare-campionatul-mondial-851295.html\n",
      "🔑 Keywords: calificarea directă, câștiga grupa, găzduiască, preliminariile, scenariile, selecționata\n",
      "🏷️ Entities: Austria, Campionatului Mondial, Canada, Federația Română de Fotbal, Mexic, SUA, tricolorii\n",
      "------------------------------------------------------------\n",
      "📰 FRF a făcut toate calculele! Cum poate ajunge România la Campionatul Mondial\n",
      "🔗 https://www.digisport.ro/fotbal/echipa-nationala/frf-a-facut-toate-calculele-cum-poate-ajunge-romania-la-campionatul-mondial-3849441\n",
      "🔑 Keywords: duelul, meci, preliminariilor\n",
      "🏷️ Entities: Arena Națională, Austriei, Cupei Mondiale, Naționala României\n",
      "------------------------------------------------------------\n",
      "\n",
      "🧠 Cluster #3 — Score: 0.496 — Sites: prosport, digisport\n",
      "------------------------------------------------------------\n",
      "📰 Blănuță a spus ”STOP”: ”S-a gândit serios să plece imediat de la Dinamo Kiev”. Ce a urmat\n",
      "🔗 https://www.digisport.ro/fotbal/fotbal-international/blanuta-a-spus-stop-s-a-gandit-serios-sa-plece-imediat-de-la-dinamo-kiev-ce-a-urmat-3849263\n",
      "🔑 Keywords: milioane de euro, scandal, transferul\n",
      "🏷️ Entities: Dinamo Kiev, FCU Craiova, Ucraina, Vladislav Blănuță\n",
      "------------------------------------------------------------\n",
      "📰 Vladislav Blănuță a vrut să plece de la Dinamo Kiev. De ce nu a putut!\n",
      "🔗 https://www.prosport.ro/fotbal-extern/vladislav-blanuta-a-vrut-sa-plece-de-la-dinamo-kiev-de-ce-nu-a-putut-20292163\n",
      "🔑 Keywords: atacantul, cedat, fanii, plece, scandalului\n",
      "🏷️ Entities: Dinamo Kiev, Ucraina, Vladislav Blănuță\n",
      "------------------------------------------------------------\n",
      "\n",
      "🧠 Cluster #4 — Score: 0.496 — Sites: prosport, digisport\n",
      "------------------------------------------------------------\n",
      "📰 200.000.000 de euro pentru a vinde FCSB? Gigi Becali a făcut anunțul\n",
      "🔗 https://www.digisport.ro/fotbal/liga-1/200-000-000-de-euro-pentru-a-vinde-fcsb-gigi-becali-a-facut-anuntul-3848683\n",
      "🔑 Keywords: anunțat, dispus, renunțe, vândă echipa\n",
      "🏷️ Entities: FCSB, Gigi Becali\n",
      "------------------------------------------------------------\n",
      "📰 Ce s-a ales de fotbalistul pentru care Gigi Becali a pierdut aproape un milion de euro\n",
      "🔗 https://www.prosport.ro/fotbal-intern/superliga/ce-s-a-ales-de-fotbalistul-pentru-care-gigi-becali-a-pierdut-aproape-un-milion-de-euro-20292209\n",
      "🔑 Keywords: fotbalistul, milion de euro, pierdut\n",
      "🏷️ Entities: Gigi Becali, Marius Ștefănescu\n",
      "------------------------------------------------------------\n"
     ]
    }
   ],
   "source": [
    "from service.story_clusterer import StoryClusterer\n",
    "\n",
    "clusterer = StoryClusterer(sites, 360, 0.3, 0.2)\n",
    "clusterer.cluster_stories()\n",
    "\n",
    "clusterer.print_matched_clusters()"
   ]
  },
  {
   "cell_type": "code",
   "execution_count": 5,
   "outputs": [
    {
     "name": "stdout",
     "output_type": "stream",
     "text": [
      "\n",
      "🏆 Top 1 — Score: 0.535\n",
      "- gsp: FRF a făcut calculele: „Cum se califică România direct la Campionatul Mondial”\n",
      "- digisport: FRF a făcut toate calculele! Cum poate ajunge România la Campionatul Mondial\n",
      "\n",
      "🏆 Top 2 — Score: 0.504\n",
      "- fanatik: Schimbare de ultimă oră la echipa națională! Un fotbalist de la Rapid a fost convocat de urgență\n",
      "- gsp: OUT de la națională! Un fotbalist de la Rapid îi ia locul\n",
      "\n",
      "🏆 Top 3 — Score: 0.496\n",
      "- digisport: Blănuță a spus ”STOP”: ”S-a gândit serios să plece imediat de la Dinamo Kiev”. Ce a urmat\n",
      "- prosport: Vladislav Blănuță a vrut să plece de la Dinamo Kiev. De ce nu a putut!\n",
      "\n",
      "🏆 Top 4 — Score: 0.496\n",
      "- digisport: 200.000.000 de euro pentru a vinde FCSB? Gigi Becali a făcut anunțul\n",
      "- prosport: Ce s-a ales de fotbalistul pentru care Gigi Becali a pierdut aproape un milion de euro\n"
     ]
    }
   ],
   "source": [
    "\n",
    "top_stories = clusterer.score_clusters()\n",
    "\n",
    "for i, story in enumerate(top_stories[:5], 1):\n",
    "    print(f\"\\n🏆 Top {i} — Score: {story['score']}\")\n",
    "    for article in story[\"articles\"]:\n",
    "        print(f\"- {article.site}: {article.title}\")\n"
   ],
   "metadata": {
    "collapsed": false,
    "ExecuteTime": {
     "end_time": "2025-10-07T09:06:44.518616600Z",
     "start_time": "2025-10-07T09:06:44.504737900Z"
    }
   },
   "id": "f9070c77d65c7cee"
  },
  {
   "cell_type": "code",
   "execution_count": 5,
   "outputs": [],
   "source": [],
   "metadata": {
    "collapsed": false,
    "ExecuteTime": {
     "end_time": "2025-10-07T09:06:44.518616600Z",
     "start_time": "2025-10-07T09:06:44.513075300Z"
    }
   },
   "id": "51664b98ed15c05d"
  }
 ],
 "metadata": {
  "kernelspec": {
   "display_name": "Python 3 (ipykernel)",
   "language": "python",
   "name": "python3"
  },
  "language_info": {
   "codemirror_mode": {
    "name": "ipython",
    "version": 3
   },
   "file_extension": ".py",
   "mimetype": "text/x-python",
   "name": "python",
   "nbconvert_exporter": "python",
   "pygments_lexer": "ipython3",
   "version": "3.11.0"
  }
 },
 "nbformat": 4,
 "nbformat_minor": 5
}
