{
 "cells": [
  {
   "cell_type": "code",
   "execution_count": 1,
   "id": "initial_id",
   "metadata": {
    "collapsed": true,
    "jupyter": {
     "outputs_hidden": true
    },
    "ExecuteTime": {
     "end_time": "2025-08-29T11:39:22.494440Z",
     "start_time": "2025-08-29T11:39:21.007215100Z"
    }
   },
   "outputs": [],
   "source": [
    "from site_scraper import SiteScraper\n",
    "\n",
    "gsp_scraper = SiteScraper(\n",
    "    name=\"gsp\",\n",
    "    base_url=\"https://www.gsp.ro\",\n",
    "    traffic=3.6,\n",
    "    time_selector=\"p.data-author\",\n",
    "    block_selector=\"div.news-item\",\n",
    "    link_selector=\"h2 a\",\n",
    "    title_strategy=\"text\"\n",
    ")\n",
    "\n",
    "digisport_scraper = SiteScraper(\n",
    "    name=\"digisport\",\n",
    "    base_url=\"https://www.digisport.ro\",\n",
    "    traffic=3.3,\n",
    "    time_selector=\"cite\",\n",
    "    block_selector=\"article.article\",\n",
    "    link_selector=\"a.article-link, h3 a.widget-latest-list-item-link\",\n",
    "    title_strategy=\"attribute\",\n",
    "    title_attribute=\"title\"\n",
    ")\n",
    "sites = [gsp_scraper, digisport_scraper]"
   ]
  },
  {
   "cell_type": "code",
   "execution_count": 2,
   "id": "ea6800b5104ac3e6",
   "metadata": {
    "collapsed": false,
    "ExecuteTime": {
     "end_time": "2025-08-29T11:39:22.511826Z",
     "start_time": "2025-08-29T11:39:22.497944700Z"
    }
   },
   "outputs": [],
   "source": [
    "total_traffic = sum(site.traffic for site in sites)\n",
    "for site in sites:\n",
    "    site.compute_weight(total_traffic)\n",
    "    # site.scrape_recent_articles(minutes=180)\n",
    "    # site.save_to_csv()\n",
    "    # site.short_print()\n",
    "\n"
   ]
  },
  {
   "cell_type": "code",
   "execution_count": 3,
   "id": "c4b154155beba4cd",
   "metadata": {
    "collapsed": false,
    "ExecuteTime": {
     "end_time": "2025-08-29T11:39:40.717732600Z",
     "start_time": "2025-08-29T11:39:23.850848200Z"
    }
   },
   "outputs": [
    {
     "name": "stdout",
     "output_type": "stream",
     "text": [
      "\n",
      "🧠 Cluster #1 — Score: 1.0\n",
      "\n",
      "🧠 Cluster #2 — Score: 1.0\n",
      "\n",
      "🔍 Matched Clusters Across Multiple Sites\n",
      "============================================================\n",
      "\n",
      "🧠 Cluster #1 — Score: 1.0 — Sites: digisport, gsp\n",
      "------------------------------------------------------------\n",
      "📰 \"Sancțiune istorică în România! -94 de puncte!\" Spaniolii de la Marca au reacționat\n",
      "🔗 https://www.digisport.ro/fotbal/liga-a-3-a/sanctiune-istorica-in-romania-94-de-puncte-spaniolii-de-la-marca-au-reactionat-3770379\n",
      "🔑 Keywords: FCU 1948 Craiova nu a primit licența de Liga 2 și va evolua în eșalonul al treilea în sezonul 2025/2026.\n",
      "🏷️ Entities: Craiova\n",
      "------------------------------------------------------------\n",
      "📰 Mititelu și FCU Craiova au ajuns în cotidianul MARCA! Spaniolii, șocați de situația din Bănie: „Sancțiune istorică”\n",
      "🔗 https://www.gsp.ro/fotbal/liga-3/fcu-craiova-adrian-mititelu-depunctare-marca-834635.html\n",
      "🔑 Keywords: FCU Craiova, clubul patronat de Adrian Mititelu (57 de ani), se află pe marginea prăpastiei. După depunctări succesive lunile precedente, formația din Bănie a mai primit pe 20 august o nouă depunctare. Totalul este acum de 94 de puncte de penalizare, iar pe FCU Craiova o paște din acest moment excluderea din competițiile FRF.\n",
      "🏷️ Entities: FCU Craiova, clubul patronat, Adrian Mititelu, Bănie, FCU, Craiova\n",
      "------------------------------------------------------------\n",
      "\n",
      "🧠 Cluster #2 — Score: 1.0 — Sites: digisport, gsp\n",
      "------------------------------------------------------------\n",
      "📰 ExclusivVictor Pițurcă, ”dat pe spate” de un antrenor din SuperLiga: ”E excelent”\n",
      "🔗 https://www.digisport.ro/fotbal/liga-1/victor-piturca-dat-pe-spate-de-un-antrenor-din-superliga-e-excelent-3770399\n",
      "🔑 Keywords: Bogdan Andone (50 de ani) face minuni pe banca celor de la FC Argeș, echipă ce are a reușit să o promoveze la sfârșitul sezonului trecut în SuperLiga României.\n",
      "🏷️ Entities: Bogdan Andone, FC Argeș, României\n",
      "------------------------------------------------------------\n",
      "📰 Vine bilanțul! Bogdan Andone dezvăluie ce urmează la FC Argeș și confirmă despărțirea anunțată de GSP: „I-am explicat situația”\n",
      "🔗 https://www.gsp.ro/fotbal/liga-1/bogdan-andone-anunta-ce-urmeaza-la-fc-arges-834588.html\n",
      "🔑 Keywords: Bogdan Andone, antrenorul „revelației” FC Argeș, se declară satisfăcut de parcursul înregistrat de nou-promovată în primele șapte runde ale noului sezon. Piteștenii au detonat „bomba” cu FCSB, 2-0, și ocupă locul 5 în campionat, cu 12 puncte\n",
      "🏷️ Entities: Bogdan Andone, antrenorul „revelației, FC Argeș\n",
      "------------------------------------------------------------\n"
     ]
    }
   ],
   "source": [
    "from story_clusterer import StoryClusterer\n",
    "\n",
    "clusterer = StoryClusterer(sites, 120, 0.1, 0.1)\n",
    "clusterer.cluster_stories()\n",
    "\n",
    "clusterer.print_matched_clusters()"
   ]
  },
  {
   "cell_type": "code",
   "execution_count": 2,
   "outputs": [],
   "source": [
    "\n",
    "top_stories = clusterer.score_clusters()\n",
    "\n",
    "for i, story in enumerate(top_stories[:5], 1):\n",
    "    print(f\"\\n🏆 Top {i} — Score: {story['score']}\")\n",
    "    for article in story[\"articles\"]:\n",
    "        print(f\"- {article['site']}: {article['title']}\")\n"
   ],
   "metadata": {
    "collapsed": false,
    "ExecuteTime": {
     "end_time": "2025-08-19T13:19:38.063376Z",
     "start_time": "2025-08-19T13:18:43.493022200Z"
    }
   },
   "id": "f9070c77d65c7cee"
  }
 ],
 "metadata": {
  "kernelspec": {
   "display_name": "Python 3 (ipykernel)",
   "language": "python",
   "name": "python3"
  },
  "language_info": {
   "codemirror_mode": {
    "name": "ipython",
    "version": 3
   },
   "file_extension": ".py",
   "mimetype": "text/x-python",
   "name": "python",
   "nbconvert_exporter": "python",
   "pygments_lexer": "ipython3",
   "version": "3.11.0"
  }
 },
 "nbformat": 4,
 "nbformat_minor": 5
}
