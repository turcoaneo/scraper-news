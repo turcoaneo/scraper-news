{
 "cells": [
  {
   "cell_type": "code",
   "execution_count": 1,
   "id": "initial_id",
   "metadata": {
    "collapsed": true,
    "jupyter": {
     "outputs_hidden": true
    },
    "ExecuteTime": {
     "end_time": "2025-09-02T08:33:32.345284700Z",
     "start_time": "2025-09-02T08:33:31.058304700Z"
    }
   },
   "outputs": [],
   "source": [
    "from site_scraper import SiteScraper\n",
    "\n",
    "gsp_scraper = SiteScraper(\n",
    "    name=\"gsp\",\n",
    "    base_url=\"https://www.gsp.ro\",\n",
    "    traffic=3.6,\n",
    "    time_selector=\"p.data-author\",\n",
    "    block_selector=\"div.news-item\",\n",
    "    link_selector=\"h2 a\",\n",
    "    title_strategy=\"text\"\n",
    ")\n",
    "\n",
    "digisport_scraper = SiteScraper(\n",
    "    name=\"digisport\",\n",
    "    base_url=\"https://www.digisport.ro\",\n",
    "    traffic=3.3,\n",
    "    time_selector=\"cite\",\n",
    "    block_selector=\"article.article\",\n",
    "    link_selector=\"a.article-link, h3 a.widget-latest-list-item-link\",\n",
    "    title_strategy=\"attribute\",\n",
    "    title_attribute=\"title\"\n",
    ")\n",
    "sites = [gsp_scraper, digisport_scraper]"
   ]
  },
  {
   "cell_type": "code",
   "execution_count": 2,
   "id": "ea6800b5104ac3e6",
   "metadata": {
    "collapsed": false,
    "ExecuteTime": {
     "end_time": "2025-09-02T08:35:42.480457600Z",
     "start_time": "2025-09-02T08:33:43.163866100Z"
    }
   },
   "outputs": [],
   "source": [
    "total_traffic = sum(site.traffic for site in sites)\n",
    "for site in sites:\n",
    "    site.compute_weight(total_traffic)\n",
    "    site.scrape_recent_articles(minutes=180)\n",
    "    site.save_to_csv()\n",
    "    # site.short_print()\n"
   ]
  },
  {
   "cell_type": "code",
   "execution_count": 3,
   "id": "c4b154155beba4cd",
   "metadata": {
    "collapsed": false,
    "ExecuteTime": {
     "end_time": "2025-09-02T09:57:39.252217700Z",
     "start_time": "2025-09-02T09:57:39.192620400Z"
    }
   },
   "outputs": [
    {
     "name": "stdout",
     "output_type": "stream",
     "text": [
      "\n",
      "🧠 Cluster #1 — Score: 1.0\n",
      "\n",
      "🔍 Matched Clusters Across Multiple Sites\n",
      "============================================================\n",
      "\n",
      "🧠 Cluster #1 — Score: 1.0 — Sites: digisport, gsp\n",
      "------------------------------------------------------------\n",
      "📰 Câți bani împart Gabriela Ruse și Marta Kostyuk, după parcusul de la US Open\n",
      "🔗 https://www.digisport.ro/tenis/cati-bani-impart-gabriela-ruse-si-marta-kostyuk-dupa-parcusul-de-la-us-open-3783585\n",
      "🔑 Keywords: ['perechea', 'româno', 'ucraineană', 'gabriela', 'marta', 'kostyuk', 'învinsă', 'cuplul', 'belgian', 'veronika']\n",
      "🏷️ Entities: Perechea, Gabriela Ruse/Marta Kostyuk, Veronika, Mertens, New York, Grand Slam al anului\n",
      "------------------------------------------------------------\n",
      "📰 Gabriela Ruse și Marta Kostyuk, eliminate în optimi la US Open\n",
      "🔗 https://www.gsp.ro/sporturi/tenis/gabriela-ruse-marta-kostyuk-us-open-eliminare-837846.html\n",
      "🔑 Keywords: ['perechea', 'marta', 'kostyuk', 'gabriela', 'eliminată', 'optimi', 'tabloul', 'dublu', 'feminin', 'veronika']\n",
      "🏷️ Entities: Perechea Marta Kostyuk, Gabriela Ruse, US Open, Veronika Kudermetova, Elise Mertens\n",
      "------------------------------------------------------------\n"
     ]
    }
   ],
   "source": [
    "from story_clusterer import StoryClusterer\n",
    "\n",
    "clusterer = StoryClusterer(sites, 180, 0.3, 0.25)\n",
    "clusterer.cluster_stories()\n",
    "\n",
    "clusterer.print_matched_clusters()"
   ]
  },
  {
   "cell_type": "code",
   "execution_count": null,
   "outputs": [],
   "source": [
    "\n",
    "top_stories = clusterer.score_clusters()\n",
    "\n",
    "for i, story in enumerate(top_stories[:5], 1):\n",
    "    print(f\"\\n🏆 Top {i} — Score: {story['score']}\")\n",
    "    for article in story[\"articles\"]:\n",
    "        print(f\"- {article['site']}: {article['title']}\")\n"
   ],
   "metadata": {
    "collapsed": false
   },
   "id": "f9070c77d65c7cee"
  }
 ],
 "metadata": {
  "kernelspec": {
   "display_name": "Python 3 (ipykernel)",
   "language": "python",
   "name": "python3"
  },
  "language_info": {
   "codemirror_mode": {
    "name": "ipython",
    "version": 3
   },
   "file_extension": ".py",
   "mimetype": "text/x-python",
   "name": "python",
   "nbconvert_exporter": "python",
   "pygments_lexer": "ipython3",
   "version": "3.11.0"
  }
 },
 "nbformat": 4,
 "nbformat_minor": 5
}
