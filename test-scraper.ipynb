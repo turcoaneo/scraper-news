{
 "cells": [
  {
   "cell_type": "code",
   "execution_count": 1,
   "id": "initial_id",
   "metadata": {
    "collapsed": true,
    "jupyter": {
     "outputs_hidden": true
    },
    "ExecuteTime": {
     "end_time": "2025-09-02T16:20:59.093370900Z",
     "start_time": "2025-09-02T16:20:57.579328300Z"
    }
   },
   "outputs": [],
   "source": [
    "from site_scraper import SiteScraper\n",
    "\n",
    "gsp_scraper = SiteScraper(\n",
    "    name=\"gsp\",\n",
    "    base_url=\"https://www.gsp.ro\",\n",
    "    traffic=3.6,\n",
    "    time_selector=\"p.data-author\",\n",
    "    block_selector=\"div.news-item\",\n",
    "    link_selector=\"h2 a\",\n",
    "    title_strategy=\"text\"\n",
    ")\n",
    "\n",
    "digisport_scraper = SiteScraper(\n",
    "    name=\"digisport\",\n",
    "    base_url=\"https://www.digisport.ro\",\n",
    "    traffic=3.3,\n",
    "    time_selector=\"cite\",\n",
    "    block_selector=\"article.article\",\n",
    "    link_selector=\"a.article-link, h3 a.widget-latest-list-item-link\",\n",
    "    title_strategy=\"attribute\",\n",
    "    title_attribute=\"title\"\n",
    ")\n",
    "sites = [gsp_scraper, digisport_scraper]"
   ]
  },
  {
   "cell_type": "code",
   "execution_count": 5,
   "id": "ea6800b5104ac3e6",
   "metadata": {
    "collapsed": false,
    "ExecuteTime": {
     "end_time": "2025-09-02T16:18:50.881306400Z",
     "start_time": "2025-09-02T16:04:26.629011600Z"
    }
   },
   "outputs": [
    {
     "name": "stdout",
     "output_type": "stream",
     "text": [
      "Failing scraping recent articles -  'list' object has no attribute 'add'\n"
     ]
    },
    {
     "ename": "KeyboardInterrupt",
     "evalue": "",
     "output_type": "error",
     "traceback": [
      "\u001B[31m---------------------------------------------------------------------------\u001B[39m",
      "\u001B[31mKeyboardInterrupt\u001B[39m                         Traceback (most recent call last)",
      "\u001B[36mCell\u001B[39m\u001B[36m \u001B[39m\u001B[32mIn[5]\u001B[39m\u001B[32m, line 4\u001B[39m\n\u001B[32m      2\u001B[39m \u001B[38;5;28;01mfor\u001B[39;00m site \u001B[38;5;129;01min\u001B[39;00m sites:\n\u001B[32m      3\u001B[39m     site.compute_weight(total_traffic)\n\u001B[32m----> \u001B[39m\u001B[32m4\u001B[39m     \u001B[43msite\u001B[49m\u001B[43m.\u001B[49m\u001B[43mscrape_recent_articles\u001B[49m\u001B[43m(\u001B[49m\u001B[43mminutes\u001B[49m\u001B[43m=\u001B[49m\u001B[32;43m180\u001B[39;49m\u001B[43m)\u001B[49m\n\u001B[32m      5\u001B[39m     site.save_to_csv()\n\u001B[32m      6\u001B[39m     \u001B[38;5;66;03m# site.short_print()\u001B[39;00m\n",
      "\u001B[36mFile \u001B[39m\u001B[32mD:\\WORKSPACE\\Python\\scraper-news\\site_scraper.py:178\u001B[39m, in \u001B[36mSiteScraper.scrape_recent_articles\u001B[39m\u001B[34m(self, minutes)\u001B[39m\n\u001B[32m    175\u001B[39m     article_scraper.fetch()\n\u001B[32m    176\u001B[39m     article_data = article_scraper.extract_data()\n\u001B[32m--> \u001B[39m\u001B[32m178\u001B[39m     \u001B[38;5;28;01mif\u001B[39;00m \u001B[43marticle_data\u001B[49m \u001B[38;5;129;01mand\u001B[39;00m article_data[\u001B[33m\"\u001B[39m\u001B[33mtimestamp\u001B[39m\u001B[33m\"\u001B[39m] >= cutoff:\n\u001B[32m    179\u001B[39m         \u001B[38;5;28mself\u001B[39m.articles.add(Article(\u001B[38;5;28mself\u001B[39m.name, article_data[\u001B[33m\"\u001B[39m\u001B[33mtimestamp\u001B[39m\u001B[33m\"\u001B[39m], article_data[\u001B[33m\"\u001B[39m\u001B[33mtitle\u001B[39m\u001B[33m\"\u001B[39m],\n\u001B[32m    180\u001B[39m                                   article_data[\u001B[33m\"\u001B[39m\u001B[33mentities\u001B[39m\u001B[33m\"\u001B[39m], article_data[\u001B[33m\"\u001B[39m\u001B[33mkeywords\u001B[39m\u001B[33m\"\u001B[39m],\n\u001B[32m    181\u001B[39m                                   article_data[\u001B[33m\"\u001B[39m\u001B[33msummary\u001B[39m\u001B[33m\"\u001B[39m], article_data[\u001B[33m\"\u001B[39m\u001B[33murl\u001B[39m\u001B[33m\"\u001B[39m], article_data[\u001B[33m\"\u001B[39m\u001B[33mcomments\u001B[39m\u001B[33m\"\u001B[39m]))\n\u001B[32m    183\u001B[39m \u001B[38;5;28;01mexcept\u001B[39;00m \u001B[38;5;167;01mException\u001B[39;00m \u001B[38;5;28;01mas\u001B[39;00m ex:\n",
      "\u001B[36mFile \u001B[39m\u001B[32mD:\\WORKSPACE\\Python\\scraper-news\\site_scraper.py:178\u001B[39m, in \u001B[36mSiteScraper.scrape_recent_articles\u001B[39m\u001B[34m(self, minutes)\u001B[39m\n\u001B[32m    175\u001B[39m     article_scraper.fetch()\n\u001B[32m    176\u001B[39m     article_data = article_scraper.extract_data()\n\u001B[32m--> \u001B[39m\u001B[32m178\u001B[39m     \u001B[38;5;28;01mif\u001B[39;00m \u001B[43marticle_data\u001B[49m \u001B[38;5;129;01mand\u001B[39;00m article_data[\u001B[33m\"\u001B[39m\u001B[33mtimestamp\u001B[39m\u001B[33m\"\u001B[39m] >= cutoff:\n\u001B[32m    179\u001B[39m         \u001B[38;5;28mself\u001B[39m.articles.add(Article(\u001B[38;5;28mself\u001B[39m.name, article_data[\u001B[33m\"\u001B[39m\u001B[33mtimestamp\u001B[39m\u001B[33m\"\u001B[39m], article_data[\u001B[33m\"\u001B[39m\u001B[33mtitle\u001B[39m\u001B[33m\"\u001B[39m],\n\u001B[32m    180\u001B[39m                                   article_data[\u001B[33m\"\u001B[39m\u001B[33mentities\u001B[39m\u001B[33m\"\u001B[39m], article_data[\u001B[33m\"\u001B[39m\u001B[33mkeywords\u001B[39m\u001B[33m\"\u001B[39m],\n\u001B[32m    181\u001B[39m                                   article_data[\u001B[33m\"\u001B[39m\u001B[33msummary\u001B[39m\u001B[33m\"\u001B[39m], article_data[\u001B[33m\"\u001B[39m\u001B[33murl\u001B[39m\u001B[33m\"\u001B[39m], article_data[\u001B[33m\"\u001B[39m\u001B[33mcomments\u001B[39m\u001B[33m\"\u001B[39m]))\n\u001B[32m    183\u001B[39m \u001B[38;5;28;01mexcept\u001B[39;00m \u001B[38;5;167;01mException\u001B[39;00m \u001B[38;5;28;01mas\u001B[39;00m ex:\n",
      "\u001B[36mFile \u001B[39m\u001B[32m_pydevd_bundle\\pydevd_cython_win32_311_64.pyx:1187\u001B[39m, in \u001B[36m_pydevd_bundle.pydevd_cython_win32_311_64.SafeCallWrapper.__call__\u001B[39m\u001B[34m()\u001B[39m\n",
      "\u001B[36mFile \u001B[39m\u001B[32m_pydevd_bundle\\pydevd_cython_win32_311_64.pyx:627\u001B[39m, in \u001B[36m_pydevd_bundle.pydevd_cython_win32_311_64.PyDBFrame.trace_dispatch\u001B[39m\u001B[34m()\u001B[39m\n",
      "\u001B[36mFile \u001B[39m\u001B[32m_pydevd_bundle\\pydevd_cython_win32_311_64.pyx:937\u001B[39m, in \u001B[36m_pydevd_bundle.pydevd_cython_win32_311_64.PyDBFrame.trace_dispatch\u001B[39m\u001B[34m()\u001B[39m\n",
      "\u001B[36mFile \u001B[39m\u001B[32m_pydevd_bundle\\pydevd_cython_win32_311_64.pyx:928\u001B[39m, in \u001B[36m_pydevd_bundle.pydevd_cython_win32_311_64.PyDBFrame.trace_dispatch\u001B[39m\u001B[34m()\u001B[39m\n",
      "\u001B[36mFile \u001B[39m\u001B[32m_pydevd_bundle\\pydevd_cython_win32_311_64.pyx:585\u001B[39m, in \u001B[36m_pydevd_bundle.pydevd_cython_win32_311_64.PyDBFrame.do_wait_suspend\u001B[39m\u001B[34m()\u001B[39m\n",
      "\u001B[36mFile \u001B[39m\u001B[32mC:\\Program Files\\JetBrains\\PyCharm2023.3\\plugins\\python\\helpers\\pydev\\pydevd.py:1184\u001B[39m, in \u001B[36mPyDB.do_wait_suspend\u001B[39m\u001B[34m(self, thread, frame, event, arg, send_suspend_message, is_unhandled_exception)\u001B[39m\n\u001B[32m   1181\u001B[39m         from_this_thread.append(frame_id)\n\u001B[32m   1183\u001B[39m \u001B[38;5;28;01mwith\u001B[39;00m \u001B[38;5;28mself\u001B[39m._threads_suspended_single_notification.notify_thread_suspended(thread_id, stop_reason):\n\u001B[32m-> \u001B[39m\u001B[32m1184\u001B[39m     \u001B[38;5;28;43mself\u001B[39;49m\u001B[43m.\u001B[49m\u001B[43m_do_wait_suspend\u001B[49m\u001B[43m(\u001B[49m\u001B[43mthread\u001B[49m\u001B[43m,\u001B[49m\u001B[43m \u001B[49m\u001B[43mframe\u001B[49m\u001B[43m,\u001B[49m\u001B[43m \u001B[49m\u001B[43mevent\u001B[49m\u001B[43m,\u001B[49m\u001B[43m \u001B[49m\u001B[43marg\u001B[49m\u001B[43m,\u001B[49m\u001B[43m \u001B[49m\u001B[43msuspend_type\u001B[49m\u001B[43m,\u001B[49m\u001B[43m \u001B[49m\u001B[43mfrom_this_thread\u001B[49m\u001B[43m)\u001B[49m\n",
      "\u001B[36mFile \u001B[39m\u001B[32mC:\\Program Files\\JetBrains\\PyCharm2023.3\\plugins\\python\\helpers\\pydev\\pydevd.py:1199\u001B[39m, in \u001B[36mPyDB._do_wait_suspend\u001B[39m\u001B[34m(self, thread, frame, event, arg, suspend_type, from_this_thread)\u001B[39m\n\u001B[32m   1196\u001B[39m             \u001B[38;5;28mself\u001B[39m._call_mpl_hook()\n\u001B[32m   1198\u001B[39m         \u001B[38;5;28mself\u001B[39m.process_internal_commands()\n\u001B[32m-> \u001B[39m\u001B[32m1199\u001B[39m         time.sleep(\u001B[32m0.01\u001B[39m)\n\u001B[32m   1201\u001B[39m \u001B[38;5;28mself\u001B[39m.cancel_async_evaluation(get_current_thread_id(thread), \u001B[38;5;28mstr\u001B[39m(\u001B[38;5;28mid\u001B[39m(frame)))\n\u001B[32m   1203\u001B[39m \u001B[38;5;66;03m# process any stepping instructions\u001B[39;00m\n",
      "\u001B[31mKeyboardInterrupt\u001B[39m: "
     ]
    }
   ],
   "source": [
    "total_traffic = sum(site.traffic for site in sites)\n",
    "for site in sites:\n",
    "    site.compute_weight(total_traffic)\n",
    "    site.scrape_recent_articles(minutes=180)\n",
    "    site.save_to_csv()\n",
    "    # site.short_print()\n"
   ]
  },
  {
   "cell_type": "code",
   "execution_count": 2,
   "id": "c4b154155beba4cd",
   "metadata": {
    "collapsed": false,
    "ExecuteTime": {
     "end_time": "2025-09-02T15:55:47.690799500Z",
     "start_time": "2025-09-02T15:55:47.679859400Z"
    }
   },
   "outputs": [
    {
     "name": "stdout",
     "output_type": "stream",
     "text": [
      "\n",
      "🔍 Matched Clusters Across Multiple Sites\n",
      "============================================================\n"
     ]
    }
   ],
   "source": [
    "from story_clusterer import StoryClusterer\n",
    "\n",
    "clusterer = StoryClusterer(sites, 180, 0.3, 0.25)\n",
    "clusterer.cluster_stories()\n",
    "\n",
    "clusterer.print_matched_clusters()"
   ]
  },
  {
   "cell_type": "code",
   "execution_count": null,
   "outputs": [],
   "source": [
    "\n",
    "top_stories = clusterer.score_clusters()\n",
    "\n",
    "for i, story in enumerate(top_stories[:5], 1):\n",
    "    print(f\"\\n🏆 Top {i} — Score: {story['score']}\")\n",
    "    for article in story[\"articles\"]:\n",
    "        print(f\"- {article['site']}: {article['title']}\")\n"
   ],
   "metadata": {
    "collapsed": false
   },
   "id": "f9070c77d65c7cee"
  }
 ],
 "metadata": {
  "kernelspec": {
   "display_name": "Python 3 (ipykernel)",
   "language": "python",
   "name": "python3"
  },
  "language_info": {
   "codemirror_mode": {
    "name": "ipython",
    "version": 3
   },
   "file_extension": ".py",
   "mimetype": "text/x-python",
   "name": "python",
   "nbconvert_exporter": "python",
   "pygments_lexer": "ipython3",
   "version": "3.11.0"
  }
 },
 "nbformat": 4,
 "nbformat_minor": 5
}
