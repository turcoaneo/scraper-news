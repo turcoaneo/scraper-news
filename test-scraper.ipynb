{
 "cells": [
  {
   "cell_type": "code",
   "execution_count": 1,
   "id": "initial_id",
   "metadata": {
    "collapsed": true,
    "jupyter": {
     "outputs_hidden": true
    },
    "ExecuteTime": {
     "end_time": "2025-09-04T11:08:06.905652900Z",
     "start_time": "2025-09-04T11:08:05.335772300Z"
    }
   },
   "outputs": [],
   "source": [
    "from site_scraper import SiteScraper\n",
    "\n",
    "gsp_scraper = SiteScraper(\n",
    "    name=\"gsp\",\n",
    "    base_url=\"https://www.gsp.ro\",\n",
    "    traffic=3.6,\n",
    "    time_selector=\"p.data-author\",\n",
    "    block_selector=\"div.news-item\",\n",
    "    link_selector=\"h2 a\",\n",
    "    title_strategy=\"text\"\n",
    ")\n",
    "\n",
    "digisport_scraper = SiteScraper(\n",
    "    name=\"digisport\",\n",
    "    base_url=\"https://www.digisport.ro\",\n",
    "    traffic=3.3,\n",
    "    time_selector=\"cite\",\n",
    "    block_selector=\"article.article\",\n",
    "    link_selector=\"a.article-link, h3 a.widget-latest-list-item-link\",\n",
    "    title_strategy=\"attribute\",\n",
    "    title_attribute=\"title\"\n",
    ")\n",
    "sites = [gsp_scraper, digisport_scraper]\n",
    "total_traffic = sum(site.traffic for site in sites)"
   ]
  },
  {
   "cell_type": "code",
   "execution_count": 2,
   "id": "ea6800b5104ac3e6",
   "metadata": {
    "collapsed": false,
    "ExecuteTime": {
     "end_time": "2025-09-04T10:50:22.445492500Z",
     "start_time": "2025-09-04T10:48:17.375153600Z"
    }
   },
   "outputs": [],
   "source": [
    "for site in sites:\n",
    "    site.compute_weight(total_traffic)\n",
    "    site.scrape_recent_articles(minutes=240)\n",
    "    site.save_to_csv()\n",
    "    # site.short_print()\n"
   ]
  },
  {
   "cell_type": "code",
   "execution_count": 5,
   "id": "c4b154155beba4cd",
   "metadata": {
    "collapsed": false,
    "ExecuteTime": {
     "end_time": "2025-09-04T12:05:15.408461600Z",
     "start_time": "2025-09-04T12:05:15.378820400Z"
    }
   },
   "outputs": [
    {
     "name": "stdout",
     "output_type": "stream",
     "text": [
      "\n",
      "🔍 Matched Clusters Across Multiple Sites\n",
      "============================================================\n"
     ]
    }
   ],
   "source": [
    "from story_clusterer import StoryClusterer\n",
    "\n",
    "clusterer = StoryClusterer(sites, 180, 0.25, 0.25)\n",
    "clusterer.cluster_stories()\n",
    "\n",
    "clusterer.print_matched_clusters()"
   ]
  },
  {
   "cell_type": "code",
   "execution_count": 3,
   "outputs": [
    {
     "name": "stdout",
     "output_type": "stream",
     "text": [
      "\n",
      "🏆 Top 1 — Score: 0.0\n",
      "- gsp: Virgil Ghiță, despre locul de titular la echipa națională\n",
      "- digisport: Lucescu a răspuns la întrebarea momentului! De ce nu l-a luat pe Vlad Dragomir la națională\n",
      "\n",
      "🏆 Top 2 — Score: 0.0\n",
      "- gsp: Ce l-a impresionat pe selecționerul Canadei la aterizarea în București\n",
      "- digisport: Mircea Lucescu a luat telefonul și l-a sunat direct pe Louis Munteanu: \"Nu poți să te comporți așa!\"\n",
      "\n",
      "🏆 Top 3 — Score: 0.0\n",
      "- gsp: Edward Iordănescu, replică pentru Mircea Lucescu: \"Înțepăturile contează mai puțin. S-a performat în mandatul meu\"\n",
      "- digisport: Adio! S-au resemnat în privința lui Ianis Hagi\n"
     ]
    }
   ],
   "source": [
    "\n",
    "top_stories = clusterer.score_clusters()\n",
    "\n",
    "for i, story in enumerate(top_stories[:5], 1):\n",
    "    print(f\"\\n🏆 Top {i} — Score: {story['score']}\")\n",
    "    for article in story[\"articles\"]:\n",
    "        print(f\"- {article.site}: {article.title}\")\n"
   ],
   "metadata": {
    "collapsed": false,
    "ExecuteTime": {
     "end_time": "2025-09-04T11:08:32.820363800Z",
     "start_time": "2025-09-04T11:08:32.805617500Z"
    }
   },
   "id": "f9070c77d65c7cee"
  },
  {
   "cell_type": "code",
   "execution_count": null,
   "outputs": [],
   "source": [],
   "metadata": {
    "collapsed": false
   },
   "id": "647a7a3d0d323358"
  }
 ],
 "metadata": {
  "kernelspec": {
   "display_name": "Python 3 (ipykernel)",
   "language": "python",
   "name": "python3"
  },
  "language_info": {
   "codemirror_mode": {
    "name": "ipython",
    "version": 3
   },
   "file_extension": ".py",
   "mimetype": "text/x-python",
   "name": "python",
   "nbconvert_exporter": "python",
   "pygments_lexer": "ipython3",
   "version": "3.11.0"
  }
 },
 "nbformat": 4,
 "nbformat_minor": 5
}
