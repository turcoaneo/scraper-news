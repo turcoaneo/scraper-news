{
 "cells": [
  {
   "cell_type": "code",
   "execution_count": 1,
   "id": "initial_id",
   "metadata": {
    "collapsed": true,
    "jupyter": {
     "outputs_hidden": true
    },
    "ExecuteTime": {
     "end_time": "2025-09-10T08:12:00.330159200Z",
     "start_time": "2025-09-10T08:11:58.928792500Z"
    }
   },
   "outputs": [],
   "source": [
    "from site_scraper import SiteScraper\n",
    "\n",
    "gsp_scraper = SiteScraper(\n",
    "    name=\"gsp\",\n",
    "    base_url=\"https://www.gsp.ro\",\n",
    "    traffic=3.6,\n",
    "    time_selector=\"p.data-author\",\n",
    "    block_selector=\"div.news-item\",\n",
    "    link_selector=\"h2 a\",\n",
    "    title_strategy=\"text\"\n",
    ")\n",
    "\n",
    "digisport_scraper = SiteScraper(\n",
    "    name=\"digisport\",\n",
    "    base_url=\"https://www.digisport.ro\",\n",
    "    traffic=3.3,\n",
    "    time_selector=\"cite\",\n",
    "    block_selector=\"article.article\",\n",
    "    link_selector=\"a.article-link, h3 a.widget-latest-list-item-link\",\n",
    "    title_strategy=\"attribute\",\n",
    "    title_attribute=\"title\"\n",
    ")\n",
    "\n",
    "fanatik_scraper = SiteScraper(\n",
    "    name=\"fanatik\",\n",
    "    base_url=\"https://www.fanatik.ro\",\n",
    "    traffic=2.9,  # Estimated, adjust as needed\n",
    "    time_selector=\"span.date\",  # Often used near article blocks\n",
    "    block_selector=\"div.article\",  # Container for each article\n",
    "    link_selector=\"h3 a\",  # Headline links\n",
    "    title_strategy=\"text\"\n",
    ")\n",
    "\n",
    "# prosport_scraper = SiteScraper(\n",
    "#     name=\"prosport\",\n",
    "#     base_url=\"https://www.prosport.ro\",\n",
    "#     traffic=3.1,  # Estimated, adjust as needed\n",
    "#     time_selector=\"span.date\",  # Common timestamp element\n",
    "#     block_selector=\"div.article\",  # Article container\n",
    "#     link_selector=\"h2 a, h3 a\",  # Headlines across sections\n",
    "#     title_strategy=\"attribute\",\n",
    "#     title_attribute=\"title\"\n",
    "# )\n",
    "\n",
    "prosport_scraper = SiteScraper(\n",
    "    name=\"prosport\",\n",
    "    base_url=\"https://www.prosport.ro\",\n",
    "    traffic=3.1,\n",
    "    time_selector=\"span.date\",\n",
    "    block_selector=\"h2.article__title\",  # Directly targets the title block\n",
    "    link_selector=\"a\",  # The anchor inside the h2\n",
    "    title_strategy=\"text\"\n",
    ")\n",
    "\n",
    "sites = [gsp_scraper, digisport_scraper, fanatik_scraper, prosport_scraper]\n",
    "total_traffic = sum(site.traffic for site in sites)"
   ]
  },
  {
   "cell_type": "code",
   "execution_count": 12,
   "id": "ea6800b5104ac3e6",
   "metadata": {
    "collapsed": false,
    "ExecuteTime": {
     "end_time": "2025-09-10T07:48:56.696778700Z",
     "start_time": "2025-09-10T07:45:03.702563600Z"
    }
   },
   "outputs": [],
   "source": [
    "for site in sites:\n",
    "    site.compute_weight(total_traffic)\n",
    "    site.scrape_recent_articles(minutes=360)\n",
    "    site.save_to_csv()\n",
    "    # site.short_print()\n"
   ]
  },
  {
   "cell_type": "code",
   "execution_count": 2,
   "id": "c4b154155beba4cd",
   "metadata": {
    "collapsed": false,
    "ExecuteTime": {
     "end_time": "2025-09-10T08:12:18.053638300Z",
     "start_time": "2025-09-10T08:12:08.407521200Z"
    }
   },
   "outputs": [
    {
     "name": "stdout",
     "output_type": "stream",
     "text": [
      "\n",
      "🧠 Cluster #1 — Score: 0.0\n",
      "\n",
      "🔍 Matched Clusters Across Multiple Sites\n",
      "============================================================\n",
      "\n",
      "🧠 Cluster #1 — Score: 0.0 — Sites: gsp, prosport\n",
      "------------------------------------------------------------\n",
      "📰 Hotelul în care se afla Florinel Coman a fost zguduit de atacul lansat de Israel în Qatar: \"Mi-a spus că în Doha au explodat două bombe\"\n",
      "🔗 https://www.gsp.ro/international/campionate/israel-atac-cu-bomba-in-qatar-hotel-florinel-coman-840429.html\n",
      "🔑 Keywords: ['capitala', 'scene', 'război', 'qatarului', 'israel', 'atacat', 'bombe', 'liderii', 'hamas', 'florinel']\n",
      "🏷️ Entities: Doha, Qatarului, Israel, liderii, Hamas, Florinel Coman, Al Gharafa, hotel\n",
      "------------------------------------------------------------\n",
      "📰 Hotelul unde era cazat Florinel Coman, zguduit de două bombe care au explodat în apropiere!\n",
      "🔗 https://www.prosport.ro/fotbal-extern/stranieri/hotelul-unde-era-cazat-florinel-coman-zguduit-de-doua-bombe-care-au-explodat-in-apropiere-20268523\n",
      "🔑 Keywords: ['florinel', 'coman', 'trecut', 'clipe', 'groază', 'hotelul', 'cazat', 'fotbalistul', 'român', 'zguduit']\n",
      "🏷️ Entities: Florinel Coman, Doha\n",
      "------------------------------------------------------------\n"
     ]
    }
   ],
   "source": [
    "from story_clusterer import StoryClusterer\n",
    "\n",
    "clusterer = StoryClusterer(sites, 180, 0.3, 0.4)\n",
    "clusterer.cluster_stories()\n",
    "\n",
    "clusterer.print_matched_clusters()"
   ]
  },
  {
   "cell_type": "code",
   "execution_count": 14,
   "outputs": [
    {
     "name": "stdout",
     "output_type": "stream",
     "text": [
      "\n",
      "🏆 Top 1 — Score: 0.519\n",
      "- gsp: Hotelul în care se afla Florinel Coman a fost zguduit de atacul lansat de Israel în Qatar: „Mi-a spus că în Doha au explodat două bombe”\n",
      "- prosport: Hotelul unde era cazat Florinel Coman, zguduit de două bombe care au explodat în apropiere!\n",
      "\n",
      "🏆 Top 2 — Score: 0.496\n",
      "- digisport: ”Dacă au demnitate și onoare, toți demisia, acum”! Fostul internațional a răbufnit, după Cipru - România 2-2\n",
      "- prosport: ”Dacă au demnitate și onoare, toți demisia, acum”! Fostul internațional a răbufnit, după Cipru - România 2-2\n",
      "\n",
      "🏆 Top 3 — Score: 0.256\n",
      "- digisport: Constantin Budescu l-a convins pe fotbalistul de națională să vină în Liga 2! Transfer spectaculos pentru Tunari. Exclusiv\n"
     ]
    }
   ],
   "source": [
    "\n",
    "top_stories = clusterer.score_clusters()\n",
    "\n",
    "for i, story in enumerate(top_stories[:5], 1):\n",
    "    print(f\"\\n🏆 Top {i} — Score: {story['score']}\")\n",
    "    for article in story[\"articles\"]:\n",
    "        print(f\"- {article.site}: {article.title}\")\n"
   ],
   "metadata": {
    "collapsed": false,
    "ExecuteTime": {
     "end_time": "2025-09-10T07:48:56.887412800Z",
     "start_time": "2025-09-10T07:48:56.867952900Z"
    }
   },
   "id": "f9070c77d65c7cee"
  },
  {
   "cell_type": "code",
   "execution_count": 14,
   "outputs": [],
   "source": [],
   "metadata": {
    "collapsed": false,
    "ExecuteTime": {
     "end_time": "2025-09-10T07:48:56.888418800Z",
     "start_time": "2025-09-10T07:48:56.876872900Z"
    }
   },
   "id": "647a7a3d0d323358"
  }
 ],
 "metadata": {
  "kernelspec": {
   "display_name": "Python 3 (ipykernel)",
   "language": "python",
   "name": "python3"
  },
  "language_info": {
   "codemirror_mode": {
    "name": "ipython",
    "version": 3
   },
   "file_extension": ".py",
   "mimetype": "text/x-python",
   "name": "python",
   "nbconvert_exporter": "python",
   "pygments_lexer": "ipython3",
   "version": "3.11.0"
  }
 },
 "nbformat": 4,
 "nbformat_minor": 5
}
