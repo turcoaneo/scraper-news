{
 "cells": [
  {
   "cell_type": "code",
   "execution_count": 99,
   "id": "initial_id",
   "metadata": {
    "collapsed": true,
    "ExecuteTime": {
     "end_time": "2025-10-10T10:17:47.524775500Z",
     "start_time": "2025-10-10T10:17:47.232058200Z"
    }
   },
   "outputs": [
    {
     "name": "stderr",
     "output_type": "stream",
     "text": [
      "Some weights of BertModel were not initialized from the model checkpoint at dumitrescustefan_token_output/checkpoint-200 and are newly initialized: ['pooler.dense.bias', 'pooler.dense.weight']\n",
      "You should probably TRAIN this model on a down-stream task to be able to use it for predictions and inference.\n"
     ]
    }
   ],
   "source": [
    "# Load Base Model + LoRA\n",
    "\n",
    "from transformers import AutoModel, AutoTokenizer\n",
    "from peft import get_peft_model, LoraConfig\n",
    "\n",
    "model_name = \"dumitrescustefan_token_output/checkpoint-200\"\n",
    "\n",
    "base_model = AutoModel.from_pretrained(model_name)\n",
    "tokenizer = AutoTokenizer.from_pretrained(model_name)\n",
    "\n",
    "lora_config = LoraConfig(\n",
    "    r=8,\n",
    "    lora_alpha=32,\n",
    "    target_modules=[\"query\", \"value\"],\n",
    "    lora_dropout=0.1,\n",
    "    bias=\"none\",\n",
    "    task_type=\"FEATURE_EXTRACTION\"\n",
    ")\n",
    "\n",
    "model = get_peft_model(base_model, lora_config)"
   ]
  },
  {
   "cell_type": "code",
   "execution_count": 101,
   "outputs": [],
   "source": [
    "# Tokenize and Embed\n",
    "import torch\n",
    "\n",
    "def embed(text):\n",
    "    tokens = tokenizer(text, return_tensors=\"pt\", truncation=True, max_length=32)\n",
    "    output = model(**tokens)\n",
    "    return output.last_hidden_state[:, 0, :]  # [CLS] token\n",
    "\n",
    "def embed_normalized(text):\n",
    "    tokens = tokenizer(text, return_tensors=\"pt\", truncation=True, max_length=32)\n",
    "    output = model(**tokens)\n",
    "    cls = output.last_hidden_state[:, 0, :]\n",
    "    return F.normalize(cls, p=2, dim=1)"
   ],
   "metadata": {
    "collapsed": false,
    "ExecuteTime": {
     "end_time": "2025-10-10T10:17:47.622073Z",
     "start_time": "2025-10-10T10:17:47.542415200Z"
    }
   },
   "id": "ed9eac92bd96d0d3"
  },
  {
   "cell_type": "code",
   "execution_count": 102,
   "outputs": [],
   "source": [
    "# Define Contrastive Loss\n",
    "import torch.nn.functional as F\n",
    "\n",
    "def contrastive_loss(anchor, positive, negative, margin=0.5):\n",
    "    sim_pos = F.cosine_similarity(anchor, positive)\n",
    "    sim_neg = F.cosine_similarity(anchor, negative)\n",
    "    p_loss = torch.clamp(margin - sim_pos + sim_neg, min=0.0)\n",
    "    return p_loss.mean()\n",
    "\n",
    "def pairwise_loss(variant, canonical):\n",
    "    p_sim = F.cosine_similarity(variant, canonical)\n",
    "    return 1 - p_sim.mean()  # maximize similarity"
   ],
   "metadata": {
    "collapsed": false,
    "ExecuteTime": {
     "end_time": "2025-10-10T10:17:47.655201300Z",
     "start_time": "2025-10-10T10:17:47.559682200Z"
    }
   },
   "id": "46c97c2f3a436881"
  },
  {
   "cell_type": "code",
   "execution_count": 103,
   "outputs": [
    {
     "name": "stdout",
     "output_type": "stream",
     "text": [
      "Epoch 1 - Loss: 0.3718\n",
      "Epoch 2 - Loss: 0.3784\n",
      "Epoch 3 - Loss: 0.3587\n",
      "Epoch 4 - Loss: 0.3659\n",
      "Epoch 5 - Loss: 0.3656\n",
      "Epoch 6 - Loss: 0.3513\n",
      "Epoch 7 - Loss: 0.3416\n",
      "Epoch 8 - Loss: 0.3448\n",
      "Epoch 9 - Loss: 0.3251\n",
      "Epoch 10 - Loss: 0.3301\n"
     ]
    }
   ],
   "source": [
    "# Training Loop\n",
    "\n",
    "from storage.duplets_dictionary import duplets\n",
    "\n",
    "optimizer = torch.optim.AdamW(model.parameters(), lr=1e-4)\n",
    "model.train()\n",
    "for epoch in range(10):\n",
    "    total_loss = 0\n",
    "    anchors = torch.cat([embed(a) for a, p in duplets])\n",
    "    positives = torch.cat([embed(p) for a, p in duplets])\n",
    "\n",
    "    loss = pairwise_loss(anchors, positives)\n",
    "    loss.backward()\n",
    "    optimizer.step()\n",
    "    optimizer.zero_grad()\n",
    "    total_loss += loss.item()\n",
    "\n",
    "    print(f\"Epoch {epoch+1} - Loss: {total_loss:.4f}\")"
   ],
   "metadata": {
    "collapsed": false,
    "ExecuteTime": {
     "end_time": "2025-10-10T10:19:48.756398Z",
     "start_time": "2025-10-10T10:17:47.628610700Z"
    }
   },
   "id": "8a52c47f0fb6db6f"
  },
  {
   "cell_type": "code",
   "execution_count": null,
   "outputs": [],
   "source": [
    "from transformers import AutoModelForSeq2SeqLM\n",
    "\n",
    "model = AutoModelForSeq2SeqLM.from_pretrained(\"your-seq2seq-model\")\n",
    "tokenizer = AutoTokenizer.from_pretrained(\"your-seq2seq-model\")\n",
    "\n",
    "optimizer = torch.optim.AdamW(model.parameters(), lr=1e-4)\n",
    "model.train()\n",
    "\n",
    "for epoch in range(10):\n",
    "    total_loss = 0\n",
    "    for source, target in duplets:\n",
    "        inputs = tokenizer(source, return_tensors=\"pt\")\n",
    "        labels = tokenizer(target, return_tensors=\"pt\").input_ids\n",
    "        outputs = model(**inputs, labels=labels)\n",
    "        loss = outputs.loss\n",
    "        loss.backward()\n",
    "        optimizer.step()\n",
    "        optimizer.zero_grad()\n",
    "        total_loss += loss.item()"
   ],
   "metadata": {
    "collapsed": false
   },
   "id": "d6cc20e580c4c13a"
  },
  {
   "cell_type": "code",
   "execution_count": 109,
   "outputs": [
    {
     "name": "stdout",
     "output_type": "stream",
     "text": [
      "Rapidului vs Rapid: 0.4263\n",
      "Rapidului vs Rapid: 0.4263\n"
     ]
    }
   ],
   "source": [
    "model.eval()\n",
    "# with torch.no_grad():\n",
    "#     sim_pos = F.cosine_similarity(embed_normalized(\"Rapidului\"), embed_normalized(\"Rapid\")).item()\n",
    "#     sim_neg = F.cosine_similarity(embed_normalized(\"Rapidului\"), embed_normalized(\"Steaua\")).item()\n",
    "# print(f\"Rapidului vs Rapid: {sim_pos:.4f}\")\n",
    "# print(f\"Rapidului vs Steaua: {sim_neg:.4f}\")\n",
    "\n",
    "with torch.no_grad():\n",
    "    sim = F.cosine_similarity(embed(\"Rapidului\"), embed(\"Rapid\")).item()\n",
    "    sim_norm = F.cosine_similarity(embed_normalized(\"Rapidului\"), embed_normalized(\"Rapid\")).item()\n",
    "print(f\"Rapidului vs Rapid: {sim:.4f}\")\n",
    "print(f\"Rapidului vs Rapid: {sim_norm:.4f}\")"
   ],
   "metadata": {
    "collapsed": false,
    "ExecuteTime": {
     "end_time": "2025-10-10T10:21:42.304396900Z",
     "start_time": "2025-10-10T10:21:42.030371600Z"
    }
   },
   "id": "6249085cb8cbbebb"
  },
  {
   "cell_type": "code",
   "execution_count": 105,
   "outputs": [
    {
     "data": {
      "text/plain": "('./declension_lora\\\\tokenizer_config.json',\n './declension_lora\\\\special_tokens_map.json',\n './declension_lora\\\\vocab.txt',\n './declension_lora\\\\added_tokens.json',\n './declension_lora\\\\tokenizer.json')"
     },
     "execution_count": 105,
     "metadata": {},
     "output_type": "execute_result"
    }
   ],
   "source": [
    "# Save LoRA model\n",
    "model.save_pretrained(\"./declension_lora\")\n",
    "tokenizer.save_pretrained(\"./declension_lora\")"
   ],
   "metadata": {
    "collapsed": false,
    "ExecuteTime": {
     "end_time": "2025-10-10T10:19:49.089385800Z",
     "start_time": "2025-10-10T10:19:49.000846200Z"
    }
   },
   "id": "c532cdf34ed5175f"
  },
  {
   "cell_type": "code",
   "execution_count": 108,
   "outputs": [
    {
     "name": "stdout",
     "output_type": "stream",
     "text": [
      "Guvern\n",
      "Rapidului\n"
     ]
    }
   ],
   "source": [
    "from service.util.declension_normalizer import DeclensionNormalizer\n",
    "\n",
    "normalizer = DeclensionNormalizer(\n",
    "    canonical_forms=[\"România\", \"Rapid\", \"Minister\", \"Guvern\", \"Craiova\"],\n",
    "    embed_fn=embed\n",
    ")\n",
    "\n",
    "print(normalizer.normalize(\"României\"))  # → \"România\"\n",
    "print(normalizer.normalize(\"Rapidului\"))  # → \"Rapid\""
   ],
   "metadata": {
    "collapsed": false,
    "ExecuteTime": {
     "end_time": "2025-10-10T10:20:42.005380500Z",
     "start_time": "2025-10-10T10:20:38.966094600Z"
    }
   },
   "id": "e7394a7664e6b749"
  }
 ],
 "metadata": {
  "kernelspec": {
   "display_name": "Python 3",
   "language": "python",
   "name": "python3"
  },
  "language_info": {
   "codemirror_mode": {
    "name": "ipython",
    "version": 2
   },
   "file_extension": ".py",
   "mimetype": "text/x-python",
   "name": "python",
   "nbconvert_exporter": "python",
   "pygments_lexer": "ipython2",
   "version": "2.7.6"
  }
 },
 "nbformat": 4,
 "nbformat_minor": 5
}
