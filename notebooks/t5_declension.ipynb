{
 "cells": [
  {
   "cell_type": "code",
   "execution_count": 1,
   "id": "initial_id",
   "metadata": {
    "collapsed": true,
    "ExecuteTime": {
     "end_time": "2025-10-21T12:27:42.961670800Z",
     "start_time": "2025-10-21T12:27:42.916211700Z"
    }
   },
   "outputs": [
    {
     "name": "stdout",
     "output_type": "stream",
     "text": [
      "Exported 269 duplets to D:\\WORKSPACE\\Python\\scraper-news\\storage\\t5_duplets.txt\n"
     ]
    }
   ],
   "source": [
    "# Convert duplets\n",
    "import os\n",
    "\n",
    "from service.util.path_util import PROJECT_ROOT\n",
    "from storage.duplets_dictionary import duplets, new_duplets\n",
    "\n",
    "BASE_DIR = PROJECT_ROOT\n",
    "T5_PATH = os.path.join(BASE_DIR, \"storage\", \"t5_duplets.txt\")\n",
    "\n",
    "\n",
    "def export_duplets_for_t5(p_duplets, output_path=T5_PATH):\n",
    "    with open(output_path, \"w\", encoding=\"utf-8\") as f:\n",
    "        for inflected, base in p_duplets:\n",
    "            p_input_text = f\"normalize: {inflected}\"\n",
    "            p_target_text = base\n",
    "            f.write(f\"{p_input_text}\\t{p_target_text}\\n\")\n",
    "    print(f\"Exported {len(p_duplets)} duplets to {output_path}\")\n",
    "\n",
    "\n",
    "export_duplets_for_t5(duplets + new_duplets)"
   ]
  },
  {
   "cell_type": "code",
   "execution_count": 2,
   "outputs": [],
   "source": [
    "# Load the File\n",
    "examples = []\n",
    "with open(T5_PATH, encoding=\"utf-8\") as f:\n",
    "    for line in f:\n",
    "        input_text, target_text = line.strip().split(\"\\t\")\n",
    "        examples.append((input_text, target_text))"
   ],
   "metadata": {
    "collapsed": false,
    "ExecuteTime": {
     "end_time": "2025-10-21T12:27:42.963672200Z",
     "start_time": "2025-10-21T12:27:42.945024200Z"
    }
   },
   "id": "66a341e1b56ce577"
  },
  {
   "cell_type": "code",
   "execution_count": 3,
   "outputs": [
    {
     "name": "stderr",
     "output_type": "stream",
     "text": [
      "You are using the default legacy behaviour of the <class 'transformers.models.t5.tokenization_t5.T5Tokenizer'>. This is expected, and simply means that the `legacy` (previous) behavior will be used so nothing changes for you. If you want to use the new behaviour, set `legacy=False`. This should only be set if you understand what it means, and thoroughly read the reason why this was added as explained in https://github.com/huggingface/transformers/pull/24565\n"
     ]
    }
   ],
   "source": [
    "# Tokenize for T5\n",
    "from transformers import T5Tokenizer\n",
    "\n",
    "tokenizer = T5Tokenizer.from_pretrained(\"t5-small\")\n",
    "\n",
    "inputs = [tokenizer(x, truncation=True, padding=\"max_length\", max_length=32, return_tensors=\"pt\") for x, _ in examples]\n",
    "labels = [tokenizer(y, truncation=True, padding=\"max_length\", max_length=32, return_tensors=\"pt\").input_ids for _, y in\n",
    "          examples]"
   ],
   "metadata": {
    "collapsed": false,
    "ExecuteTime": {
     "end_time": "2025-10-21T12:27:50.391166700Z",
     "start_time": "2025-10-21T12:27:42.951666700Z"
    }
   },
   "id": "80a4325a66f33deb"
  },
  {
   "cell_type": "code",
   "execution_count": 4,
   "outputs": [
    {
     "name": "stdout",
     "output_type": "stream",
     "text": [
      "\n",
      "Epoch 1/25\n",
      "Total loss: 384.9751\n",
      "\n",
      "Epoch 2/25\n",
      "Total loss: 85.0910\n",
      "\n",
      "Epoch 3/25\n",
      "Total loss: 35.7481\n",
      "\n",
      "Epoch 4/25\n",
      "Total loss: 24.2992\n",
      "\n",
      "Epoch 5/25\n",
      "Total loss: 18.6546\n",
      "\n",
      "Epoch 6/25\n",
      "Total loss: 13.2448\n",
      "\n",
      "Epoch 7/25\n",
      "Total loss: 11.4376\n",
      "\n",
      "Epoch 8/25\n",
      "Total loss: 9.2274\n",
      "\n",
      "Epoch 9/25\n",
      "Total loss: 7.7718\n",
      "\n",
      "Epoch 10/25\n",
      "Total loss: 6.3294\n",
      "\n",
      "Epoch 11/25\n",
      "Total loss: 5.9553\n",
      "\n",
      "Epoch 12/25\n",
      "Total loss: 4.4615\n",
      "\n",
      "Epoch 13/25\n",
      "Total loss: 3.9242\n",
      "\n",
      "Epoch 14/25\n",
      "Total loss: 3.9316\n",
      "\n",
      "Epoch 15/25\n",
      "Total loss: 2.8685\n",
      "\n",
      "Epoch 16/25\n",
      "Total loss: 3.0799\n",
      "\n",
      "Epoch 17/25\n",
      "Total loss: 2.2513\n",
      "\n",
      "Epoch 18/25\n",
      "Total loss: 1.6723\n",
      "\n",
      "Epoch 19/25\n",
      "Total loss: 1.9172\n",
      "\n",
      "Epoch 20/25\n",
      "Total loss: 2.0043\n",
      "\n",
      "Epoch 21/25\n",
      "Total loss: 1.9896\n",
      "\n",
      "Epoch 22/25\n",
      "Total loss: 1.8842\n",
      "\n",
      "Epoch 23/25\n",
      "Total loss: 1.5445\n",
      "\n",
      "Epoch 24/25\n",
      "Total loss: 1.4924\n",
      "\n",
      "Epoch 25/25\n",
      "Total loss: 1.5767\n"
     ]
    }
   ],
   "source": [
    "# Train with T5ForConditionalGeneration\n",
    "import torch\n",
    "from transformers import T5ForConditionalGeneration\n",
    "\n",
    "model = T5ForConditionalGeneration.from_pretrained(\"t5-small\")\n",
    "optimizer = torch.optim.AdamW(model.parameters(), lr=1e-4)\n",
    "model.train()\n",
    "\n",
    "num_epochs = 25\n",
    "for epoch in range(num_epochs):\n",
    "    total_loss = 0\n",
    "    print(f\"\\nEpoch {epoch + 1}/{num_epochs}\")\n",
    "\n",
    "    for input_batch, label_batch in zip(inputs, labels):\n",
    "        output = model(**input_batch, labels=label_batch)\n",
    "        loss = output.loss\n",
    "        loss.backward()\n",
    "        optimizer.step()\n",
    "        optimizer.zero_grad()\n",
    "        total_loss += loss.item()\n",
    "\n",
    "    print(f\"Total loss: {total_loss:.4f}\")"
   ],
   "metadata": {
    "collapsed": false,
    "ExecuteTime": {
     "end_time": "2025-10-21T13:37:35.606206Z",
     "start_time": "2025-10-21T12:27:50.397280600Z"
    }
   },
   "id": "1afa4a39d1d05e2f"
  },
  {
   "cell_type": "code",
   "execution_count": 5,
   "outputs": [
    {
     "data": {
      "text/plain": "('t5_decorator_model\\\\tokenizer_config.json',\n 't5_decorator_model\\\\special_tokens_map.json',\n 't5_decorator_model\\\\spiece.model',\n 't5_decorator_model\\\\added_tokens.json')"
     },
     "execution_count": 5,
     "metadata": {},
     "output_type": "execute_result"
    }
   ],
   "source": [
    "# Save and tokenize\n",
    "model.save_pretrained(\"t5_decorator_model\")\n",
    "tokenizer.save_pretrained(\"t5_decorator_model\")"
   ],
   "metadata": {
    "collapsed": false,
    "ExecuteTime": {
     "end_time": "2025-10-21T13:37:36.039662800Z",
     "start_time": "2025-10-21T13:37:35.595772400Z"
    }
   },
   "id": "24fd263511309fcd"
  },
  {
   "cell_type": "code",
   "execution_count": 1,
   "outputs": [
    {
     "name": "stdout",
     "output_type": "stream",
     "text": [
      "✅ copilului → copil\n",
      "✅ copiii → copii\n",
      "✅ mamei → mamă\n",
      "✅ mamelor → mame\n",
      "✅ fratelui → frate\n",
      "✅ sportivilor → sportivi\n",
      "✅ echipelor locale → echipe locale\n",
      "✅ manelei → manea\n",
      "✅ acadelei → acadea\n",
      "✅ Stelei București → Steaua București\n",
      "✅ Stelei → Steaua\n",
      "✅ Unirii → Unirea\n",
      "✅ Sibiului → Sibiu\n",
      "✅ jucătoarei → jucătoare\n",
      "✅ fotbalistelor tinere → fotbaliste tinere\n",
      "✅ rugbiștilor francezi → rugbiști francezi\n",
      "✅ cetățeanului → cetățean\n",
      "✅ comisiilor → comisii\n",
      "✅ prefecților → prefecți\n",
      "✅ Sebeșului → Sebeș\n",
      "✅ Soranei → Sorana\n",
      "✅ Sorana Cîrstea → Sorana Cîrstea\n",
      "✅ Gigi Becali → Gigi Becali\n",
      "✅ Soranei Cîrstea → Sorana Cîrstea\n",
      "✅ Iuliu Mureșan → Iuliu Mureșan\n",
      "✅ prahovean → prahovean\n",
      "✅ prahoveancă → prahoveană\n",
      "✅ piteștean → piteștean\n"
     ]
    }
   ],
   "source": [
    "# Test\n",
    "from storage.duplets_dictionary import test_cases\n",
    "from service.util.declension_util import DeclensionUtil\n",
    "\n",
    "from transformers import T5Tokenizer, T5ForConditionalGeneration\n",
    "\n",
    "tokenizer = T5Tokenizer.from_pretrained(\"t5_decorator_model\")\n",
    "model = T5ForConditionalGeneration.from_pretrained(\"t5_decorator_model\")\n",
    "model.eval()\n",
    "\n",
    "# Test cases\n",
    "for input_text, expected_output in test_cases:\n",
    "    scripted_model_output = DeclensionUtil.normalize(input_text, (tokenizer, model))\n",
    "    if scripted_model_output != expected_output:\n",
    "        print(f\"❌ {input_text} → {scripted_model_output} (expected: {expected_output})\")\n",
    "    else:\n",
    "        print(f\"✅ {input_text} → {scripted_model_output}\")"
   ],
   "metadata": {
    "collapsed": false,
    "ExecuteTime": {
     "end_time": "2025-10-21T15:39:12.261961500Z",
     "start_time": "2025-10-21T15:38:52.421930700Z"
    }
   },
   "id": "890b9d78ad81f06"
  }
 ],
 "metadata": {
  "kernelspec": {
   "display_name": "Python 3",
   "language": "python",
   "name": "python3"
  },
  "language_info": {
   "codemirror_mode": {
    "name": "ipython",
    "version": 2
   },
   "file_extension": ".py",
   "mimetype": "text/x-python",
   "name": "python",
   "nbconvert_exporter": "python",
   "pygments_lexer": "ipython2",
   "version": "2.7.6"
  }
 },
 "nbformat": 4,
 "nbformat_minor": 5
}
