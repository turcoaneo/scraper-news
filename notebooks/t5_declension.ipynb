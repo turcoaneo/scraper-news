{
 "cells": [
  {
   "cell_type": "code",
   "execution_count": 1,
   "id": "initial_id",
   "metadata": {
    "collapsed": true,
    "ExecuteTime": {
     "end_time": "2025-10-12T07:07:37.454581200Z",
     "start_time": "2025-10-12T07:07:37.415766900Z"
    }
   },
   "outputs": [
    {
     "name": "stdout",
     "output_type": "stream",
     "text": [
      "Exported 210 duplets to D:\\WORKSPACE\\Python\\scraper-news\\storage\\t5_duplets.txt\n"
     ]
    }
   ],
   "source": [
    "# Convert duplets\n",
    "import os\n",
    "\n",
    "from service.util.root_dir_util import get_project_root\n",
    "from storage.duplets_dictionary import duplets, new_duplets\n",
    "\n",
    "BASE_DIR = get_project_root()\n",
    "T5_PATH = os.path.join(BASE_DIR, \"storage\", \"t5_duplets.txt\")\n",
    "\n",
    "\n",
    "def export_duplets_for_t5(p_duplets, output_path=T5_PATH):\n",
    "    with open(output_path, \"w\", encoding=\"utf-8\") as f:\n",
    "        for inflected, base in p_duplets:\n",
    "            p_input_text = f\"normalize: {inflected}\"\n",
    "            p_target_text = base\n",
    "            f.write(f\"{p_input_text}\\t{p_target_text}\\n\")\n",
    "    print(f\"Exported {len(p_duplets)} duplets to {output_path}\")\n",
    "\n",
    "\n",
    "export_duplets_for_t5(duplets + new_duplets)"
   ]
  },
  {
   "cell_type": "code",
   "execution_count": 2,
   "outputs": [],
   "source": [
    "# Load the File\n",
    "examples = []\n",
    "with open(T5_PATH, encoding=\"utf-8\") as f:\n",
    "    for line in f:\n",
    "        input_text, target_text = line.strip().split(\"\\t\")\n",
    "        examples.append((input_text, target_text))"
   ],
   "metadata": {
    "collapsed": false,
    "ExecuteTime": {
     "end_time": "2025-10-12T07:07:37.559689600Z",
     "start_time": "2025-10-12T07:07:37.456578300Z"
    }
   },
   "id": "66a341e1b56ce577"
  },
  {
   "cell_type": "code",
   "execution_count": 3,
   "outputs": [
    {
     "name": "stderr",
     "output_type": "stream",
     "text": [
      "You are using the default legacy behaviour of the <class 'transformers.models.t5.tokenization_t5.T5Tokenizer'>. This is expected, and simply means that the `legacy` (previous) behavior will be used so nothing changes for you. If you want to use the new behaviour, set `legacy=False`. This should only be set if you understand what it means, and thoroughly read the reason why this was added as explained in https://github.com/huggingface/transformers/pull/24565\n"
     ]
    }
   ],
   "source": [
    "# Tokenize for T5\n",
    "from transformers import T5Tokenizer\n",
    "\n",
    "tokenizer = T5Tokenizer.from_pretrained(\"t5-small\")\n",
    "\n",
    "inputs = [tokenizer(x, truncation=True, padding=\"max_length\", max_length=32, return_tensors=\"pt\") for x, _ in examples]\n",
    "labels = [tokenizer(y, truncation=True, padding=\"max_length\", max_length=32, return_tensors=\"pt\").input_ids for _, y in\n",
    "          examples]"
   ],
   "metadata": {
    "collapsed": false,
    "ExecuteTime": {
     "end_time": "2025-10-12T07:07:44.462238300Z",
     "start_time": "2025-10-12T07:07:37.464688300Z"
    }
   },
   "id": "80a4325a66f33deb"
  },
  {
   "cell_type": "code",
   "execution_count": 4,
   "outputs": [
    {
     "name": "stdout",
     "output_type": "stream",
     "text": [
      "\n",
      "Epoch 1/25\n",
      "Total loss: 344.5781\n",
      "\n",
      "Epoch 2/25\n",
      "Total loss: 93.4381\n",
      "\n",
      "Epoch 3/25\n",
      "Total loss: 35.2987\n",
      "\n",
      "Epoch 4/25\n",
      "Total loss: 22.7287\n",
      "\n",
      "Epoch 5/25\n",
      "Total loss: 16.1046\n",
      "\n",
      "Epoch 6/25\n",
      "Total loss: 13.6744\n",
      "\n",
      "Epoch 7/25\n",
      "Total loss: 10.8044\n",
      "\n",
      "Epoch 8/25\n",
      "Total loss: 8.1999\n",
      "\n",
      "Epoch 9/25\n",
      "Total loss: 7.3118\n",
      "\n",
      "Epoch 10/25\n",
      "Total loss: 5.7504\n",
      "\n",
      "Epoch 11/25\n",
      "Total loss: 4.8015\n",
      "\n",
      "Epoch 12/25\n",
      "Total loss: 3.2231\n",
      "\n",
      "Epoch 13/25\n",
      "Total loss: 2.6592\n",
      "\n",
      "Epoch 14/25\n",
      "Total loss: 2.9448\n",
      "\n",
      "Epoch 15/25\n",
      "Total loss: 2.8496\n",
      "\n",
      "Epoch 16/25\n",
      "Total loss: 2.3320\n",
      "\n",
      "Epoch 17/25\n",
      "Total loss: 1.5473\n",
      "\n",
      "Epoch 18/25\n",
      "Total loss: 1.1272\n",
      "\n",
      "Epoch 19/25\n",
      "Total loss: 0.6384\n",
      "\n",
      "Epoch 20/25\n",
      "Total loss: 1.2233\n",
      "\n",
      "Epoch 21/25\n",
      "Total loss: 1.5442\n",
      "\n",
      "Epoch 22/25\n",
      "Total loss: 2.0216\n",
      "\n",
      "Epoch 23/25\n",
      "Total loss: 1.4437\n",
      "\n",
      "Epoch 24/25\n",
      "Total loss: 1.0740\n",
      "\n",
      "Epoch 25/25\n",
      "Total loss: 0.8682\n"
     ]
    }
   ],
   "source": [
    "# Train with T5ForConditionalGeneration\n",
    "import torch\n",
    "from transformers import T5ForConditionalGeneration\n",
    "\n",
    "model = T5ForConditionalGeneration.from_pretrained(\"t5-small\")\n",
    "optimizer = torch.optim.AdamW(model.parameters(), lr=1e-4)\n",
    "model.train()\n",
    "\n",
    "num_epochs = 25\n",
    "for epoch in range(num_epochs):\n",
    "    total_loss = 0\n",
    "    print(f\"\\nEpoch {epoch + 1}/{num_epochs}\")\n",
    "\n",
    "    for input_batch, label_batch in zip(inputs, labels):\n",
    "        output = model(**input_batch, labels=label_batch)\n",
    "        loss = output.loss\n",
    "        loss.backward()\n",
    "        optimizer.step()\n",
    "        optimizer.zero_grad()\n",
    "        total_loss += loss.item()\n",
    "\n",
    "    print(f\"Total loss: {total_loss:.4f}\")"
   ],
   "metadata": {
    "collapsed": false,
    "ExecuteTime": {
     "end_time": "2025-10-12T08:01:55.904033800Z",
     "start_time": "2025-10-12T07:07:44.467116600Z"
    }
   },
   "id": "1afa4a39d1d05e2f"
  },
  {
   "cell_type": "code",
   "execution_count": 5,
   "outputs": [
    {
     "data": {
      "text/plain": "('t5_decorator_model\\\\tokenizer_config.json',\n 't5_decorator_model\\\\special_tokens_map.json',\n 't5_decorator_model\\\\spiece.model',\n 't5_decorator_model\\\\added_tokens.json')"
     },
     "execution_count": 5,
     "metadata": {},
     "output_type": "execute_result"
    }
   ],
   "source": [
    "# Save and tokenize\n",
    "model.save_pretrained(\"t5_decorator_model\")\n",
    "tokenizer.save_pretrained(\"t5_decorator_model\")"
   ],
   "metadata": {
    "collapsed": false,
    "ExecuteTime": {
     "end_time": "2025-10-12T08:01:56.238444200Z",
     "start_time": "2025-10-12T08:01:55.924038Z"
    }
   },
   "id": "24fd263511309fcd"
  },
  {
   "cell_type": "code",
   "execution_count": 1,
   "outputs": [
    {
     "name": "stdout",
     "output_type": "stream",
     "text": [
      "Sebeș\n",
      "inspector\n",
      "inspectoare\n",
      "inspectori\n",
      "inspector\n",
      "culoare\n",
      "sector\n",
      "Brașov\n",
      "Turda\n"
     ]
    }
   ],
   "source": [
    "# Test\n",
    "from transformers import T5Tokenizer, T5ForConditionalGeneration\n",
    "\n",
    "tokenizer = T5Tokenizer.from_pretrained(\"t5_decorator_model\")\n",
    "model = T5ForConditionalGeneration.from_pretrained(\"t5_decorator_model\")\n",
    "model.eval()\n",
    "\n",
    "from storage.duplets_dictionary import normalize\n",
    "\n",
    "# Test cases\n",
    "print(normalize(\"Sebeșului\", tokenizer, model))\n",
    "print(normalize(\"inspectorului\", tokenizer, model))\n",
    "print(normalize(\"inspectoarei\", tokenizer, model))\n",
    "print(normalize(\"inspectorilor\", tokenizer, model))\n",
    "print(normalize(\"inspectoarelor\", tokenizer, model))\n",
    "print(normalize(\"culoarelor\", tokenizer, model))\n",
    "print(normalize(\"sectorului\", tokenizer, model))\n",
    "print(normalize(\"Brașovului\", tokenizer, model))\n",
    "print(normalize(\"Turdei\", tokenizer, model))"
   ],
   "metadata": {
    "collapsed": false,
    "ExecuteTime": {
     "end_time": "2025-10-13T05:50:06.225438900Z",
     "start_time": "2025-10-13T05:49:53.795584900Z"
    }
   },
   "id": "890b9d78ad81f06"
  },
  {
   "cell_type": "code",
   "execution_count": 2,
   "outputs": [
    {
     "name": "stdout",
     "output_type": "stream",
     "text": [
      "copil\n",
      "mama\n",
      "mame\n",
      "frate\n",
      "sportivi\n",
      "echipe locale\n",
      "manea\n",
      "acade\n",
      "Steaua București\n",
      "Steaua\n",
      "Unirea\n",
      "Sibiu\n",
      "jucătoare\n",
      "fotbaliste tinere\n",
      "rugbiști francezi\n",
      "cetățean\n",
      "comisii\n",
      "prefecți\n"
     ]
    }
   ],
   "source": [
    "from storage.duplets import test_cases\n",
    "\n",
    "for case in test_cases:\n",
    "    print(normalize(case, tokenizer, model))"
   ],
   "metadata": {
    "collapsed": false,
    "ExecuteTime": {
     "end_time": "2025-10-13T05:50:18.393346Z",
     "start_time": "2025-10-13T05:50:15.643233200Z"
    }
   },
   "id": "f4d73b81ef3b937e"
  }
 ],
 "metadata": {
  "kernelspec": {
   "display_name": "Python 3",
   "language": "python",
   "name": "python3"
  },
  "language_info": {
   "codemirror_mode": {
    "name": "ipython",
    "version": 2
   },
   "file_extension": ".py",
   "mimetype": "text/x-python",
   "name": "python",
   "nbconvert_exporter": "python",
   "pygments_lexer": "ipython2",
   "version": "2.7.6"
  }
 },
 "nbformat": 4,
 "nbformat_minor": 5
}
