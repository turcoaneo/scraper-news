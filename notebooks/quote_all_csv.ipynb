{
 "cells": [
  {
   "cell_type": "code",
   "execution_count": 5,
   "id": "initial_id",
   "metadata": {
    "collapsed": true,
    "ExecuteTime": {
     "end_time": "2025-10-05T07:46:58.171087900Z",
     "start_time": "2025-10-05T07:46:58.160328700Z"
    }
   },
   "outputs": [],
   "source": [
    "import csv\n",
    "import os\n",
    "\n",
    "from service.util.path_util import PROJECT_ROOT\n",
    "\n",
    "BASE_DIR = PROJECT_ROOT\n",
    "input_file = os.path.join(BASE_DIR, \"storage\", \"csv2jsonl_input.csv\")\n",
    "output_file = os.path.join(BASE_DIR, \"storage\", \"csv2jsonl_output.json\")\n",
    "\n",
    "with open(input_file, encoding=\"utf-8\") as infile, open(output_file, mode=\"w\", newline=\"\", encoding=\"utf-8\") as outfile:\n",
    "    reader = csv.reader(infile)\n",
    "    writer = csv.writer(outfile, quoting=csv.QUOTE_ALL)\n",
    "\n",
    "    for row in reader:\n",
    "        if len(row) < 3:\n",
    "            continue  # Skip malformed rows\n",
    "        try:\n",
    "            writer.writerow(row)\n",
    "        except Exception as e:\n",
    "            print(f\"Error processing row: {row[:50]}... → {e}\")"
   ]
  }
 ],
 "metadata": {
  "kernelspec": {
   "display_name": "Python 3",
   "language": "python",
   "name": "python3"
  },
  "language_info": {
   "codemirror_mode": {
    "name": "ipython",
    "version": 2
   },
   "file_extension": ".py",
   "mimetype": "text/x-python",
   "name": "python",
   "nbconvert_exporter": "python",
   "pygments_lexer": "ipython2",
   "version": "2.7.6"
  }
 },
 "nbformat": 4,
 "nbformat_minor": 5
}
