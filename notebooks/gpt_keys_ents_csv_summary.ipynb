{
 "cells": [
  {
   "cell_type": "code",
   "execution_count": 8,
   "id": "initial_id",
   "metadata": {
    "collapsed": true,
    "ExecuteTime": {
     "end_time": "2025-10-13T13:08:58.776797300Z",
     "start_time": "2025-10-13T13:08:53.107556200Z"
    }
   },
   "outputs": [],
   "source": [
    "import csv\n",
    "import os\n",
    "\n",
    "from dotenv import load_dotenv\n",
    "from openai import OpenAI\n",
    "\n",
    "from service.util.root_dir_util import get_project_root\n",
    "\n",
    "load_dotenv()\n",
    "client = OpenAI(api_key=os.getenv(\"OPENAI_API_KEY\"))\n",
    "\n",
    "BASE_DIR = get_project_root()\n",
    "input_path = os.path.join(BASE_DIR, \"storage\", \"hf\", \"gpt_20250930.csv\")\n",
    "\n",
    "\n",
    "def extract_entities_keywords(p_summary):\n",
    "    prompt = f\"\"\"\n",
    "    Extract named entities and keywords from the following Romanian sports news summary.\n",
    "    Only extract named entities such as people, organizations, teams, competitions, and locations. Do NOT include dates, weekdays, or generic terms.\n",
    "    Extract relevant keywords that describe the themes, actions, or context of the summary. Avoid repeating named entities or generic filler words.\n",
    "\n",
    "    Summary: \"{p_summary}\"\n",
    "\n",
    "    Return a valid JSON object with two fields: \"entities\" and \"keywords\".\n",
    "    Each field should be a list of strings.\n",
    "    \"\"\"\n",
    "    response = client.chat.completions.create(\n",
    "        model=\"gpt-4\",\n",
    "        messages=[\n",
    "            {\"role\": \"user\", \"content\": prompt}\n",
    "        ],\n",
    "        temperature=0.7\n",
    "    )\n",
    "\n",
    "    # ✅ Use .choices[0].message.content (not response['choices'][0]...)\n",
    "    result_text = response.choices[0].message.content\n",
    "\n",
    "    # ✅ Safer than eval — use json.loads\n",
    "    import json\n",
    "    try:\n",
    "        return json.loads(result_text)\n",
    "    except json.JSONDecodeError as err:\n",
    "        print(f\"JSON decode error: {err}\")\n",
    "        print(f\"Raw response: {result_text}\")\n",
    "        return {\"entities\": [], \"keywords\": []}\n",
    "\n",
    "\n",
    "input_file = os.path.join(BASE_DIR, \"storage\", \"test_gpt_input_corrupt.csv\")\n",
    "output_file = os.path.join(BASE_DIR, \"storage\", \"test_gpt_output_corrupt.json\")\n",
    "\n",
    "with open(input_file, encoding=\"utf-8\") as infile, open(output_file, mode=\"w\", newline=\"\", encoding=\"utf-8\") as outfile:\n",
    "    reader = csv.reader(infile)\n",
    "    next(reader)\n",
    "    writer = csv.writer(outfile, quoting=csv.QUOTE_ALL)\n",
    "    writer.writerow([\"summary\", \"entities\", \"keywords\"])  # Header\n",
    "\n",
    "    for row in reader:\n",
    "        if len(row) < 3:\n",
    "            continue  # Skip malformed rows\n",
    "        summary = row[2].strip()\n",
    "        try:\n",
    "            result = extract_entities_keywords(summary)\n",
    "            entities = \",\".join(result[\"entities\"])\n",
    "            keywords = \",\".join(result[\"keywords\"])\n",
    "            writer.writerow([summary, entities, keywords])\n",
    "        except Exception as e:\n",
    "            print(f\"Error processing row: {summary[:50]}... → {e}\")"
   ]
  },
  {
   "cell_type": "code",
   "execution_count": 9,
   "outputs": [],
   "source": [
    "from service.csv2jsonl import CsvToJsonlConverter\n",
    "\n",
    "output_path = os.path.join(BASE_DIR, \"storage\", \"hf\", \"gpt_20250930.jsonl\")\n",
    "\n",
    "converter = CsvToJsonlConverter(input_path, output_path)\n",
    "converter.convert()"
   ],
   "metadata": {
    "collapsed": false,
    "ExecuteTime": {
     "end_time": "2025-10-13T13:08:58.822894700Z",
     "start_time": "2025-10-13T13:08:58.779799900Z"
    }
   },
   "id": "e1df1ca996275c6f"
  },
  {
   "cell_type": "code",
   "execution_count": 10,
   "outputs": [],
   "source": [
    "import csv\n",
    "\n",
    "\n",
    "def check_csv_integrity(file_path, expected_columns=3):\n",
    "    with open(file_path, \"r\", encoding=\"utf-8\") as f:\n",
    "        csv_reader = csv.reader(f, quotechar='\"')\n",
    "        for i, p_row in enumerate(csv_reader, start=1):\n",
    "            if len(p_row) != expected_columns:\n",
    "                print(f\"⚠️ Line {i} is malformed: {row}\")\n",
    "\n",
    "\n",
    "# Example usage\n",
    "check_csv_integrity(input_path)"
   ],
   "metadata": {
    "collapsed": false,
    "ExecuteTime": {
     "end_time": "2025-10-13T13:08:58.822894700Z",
     "start_time": "2025-10-13T13:08:58.814823600Z"
    }
   },
   "id": "e81f718cec73a96f"
  },
  {
   "cell_type": "code",
   "execution_count": 11,
   "outputs": [],
   "source": [
    "def scan_for_hidden_chars(file_path):\n",
    "    with open(file_path, \"r\", encoding=\"utf-8\") as f:\n",
    "        for i, line in enumerate(f, start=1):\n",
    "            if any(c in line for c in ['\\u00A0', '\\u200B', '\\uFEFF']):\n",
    "                print(f\"⚠️ Hidden char on line {i}: {repr(line)}\")\n",
    "\n",
    "\n",
    "scan_for_hidden_chars(input_path)"
   ],
   "metadata": {
    "collapsed": false,
    "ExecuteTime": {
     "end_time": "2025-10-13T13:08:58.853392900Z",
     "start_time": "2025-10-13T13:08:58.823883100Z"
    }
   },
   "id": "8b86fe65f2e8545e"
  },
  {
   "cell_type": "code",
   "execution_count": 12,
   "outputs": [
    {
     "name": "stdout",
     "output_type": "stream",
     "text": [
      "⚠️ Row 71 has non-string fields:\n",
      "summary     Cei 5 nativi care au mare noroc, se bucură de ...\n",
      "entities                                                  NaN\n",
      "keywords    nativi,noroc,bani mulți,șanse nemăsurate,astre...\n",
      "Name: 69, dtype: object\n",
      "\n",
      "⚠️ Row 77 has non-string fields:\n",
      "summary     Cu siguranta ai observat si tu ca majoritatea ...\n",
      "entities                                                  NaN\n",
      "keywords    observat,majoritatea,apar,pe sticla,online,fot...\n",
      "Name: 75, dtype: object\n"
     ]
    }
   ],
   "source": [
    "import pandas as pd\n",
    "\n",
    "df = pd.read_csv(input_path, quotechar='\"')\n",
    "for i, row in df.iterrows():\n",
    "    if not isinstance(row[\"entities\"], str) or not isinstance(row[\"keywords\"], str):\n",
    "        print(f\"⚠️ Row {i + 2} has non-string fields:\\n{row}\\n\")"
   ],
   "metadata": {
    "collapsed": false,
    "ExecuteTime": {
     "end_time": "2025-10-13T13:08:58.888894300Z",
     "start_time": "2025-10-13T13:08:58.840444300Z"
    }
   },
   "id": "e9d5a8896da3d107"
  }
 ],
 "metadata": {
  "kernelspec": {
   "display_name": "Python 3",
   "language": "python",
   "name": "python3"
  },
  "language_info": {
   "codemirror_mode": {
    "name": "ipython",
    "version": 2
   },
   "file_extension": ".py",
   "mimetype": "text/x-python",
   "name": "python",
   "nbconvert_exporter": "python",
   "pygments_lexer": "ipython2",
   "version": "2.7.6"
  }
 },
 "nbformat": 4,
 "nbformat_minor": 5
}
