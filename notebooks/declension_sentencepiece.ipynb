{
 "cells": [
  {
   "cell_type": "code",
   "execution_count": 1,
   "id": "initial_id",
   "metadata": {
    "collapsed": true,
    "ExecuteTime": {
     "end_time": "2025-10-21T07:58:52.792259500Z",
     "start_time": "2025-10-21T07:58:52.729726800Z"
    }
   },
   "outputs": [
    {
     "name": "stdout",
     "output_type": "stream",
     "text": [
      "Exported 482 lines to D:\\WORKSPACE\\Python\\scraper-news\\storage\\declension_corpus.txt\n"
     ]
    }
   ],
   "source": [
    "# Setup\n",
    "import os\n",
    "\n",
    "from service.util.path_util import PROJECT_ROOT\n",
    "from storage.duplets_dictionary import duplets, new_duplets\n",
    "\n",
    "BASE_DIR = PROJECT_ROOT\n",
    "CORPUS_PATH = os.path.join(BASE_DIR, \"storage\", \"declension_corpus.txt\")\n",
    "\n",
    "\n",
    "def export_duplets_to_sp(p_duplets, output_path=CORPUS_PATH):\n",
    "    with open(output_path, \"w\", encoding=\"utf-8\") as f:\n",
    "        for inflected, base in p_duplets:\n",
    "            f.write(f\"{inflected}\\n\")\n",
    "            f.write(f\"{base}\\n\")\n",
    "    print(f\"Exported {len(p_duplets) * 2} lines to {output_path}\")\n",
    "\n",
    "\n",
    "duplets = duplets + new_duplets\n",
    "export_duplets_to_sp(duplets)"
   ]
  },
  {
   "cell_type": "code",
   "execution_count": 2,
   "outputs": [],
   "source": [
    "#  Train SentencePiece tokenizer\n",
    "\n",
    "import sentencepiece as spm\n",
    "\n",
    "# noinspection PyUnresolvedReferences\n",
    "spm.SentencePieceTrainer.train(\n",
    "    input=CORPUS_PATH,\n",
    "    model_prefix=\"declension\",\n",
    "    vocab_size=800,\n",
    "    character_coverage=1.0,\n",
    "    model_type=\"bpe\"\n",
    ")"
   ],
   "metadata": {
    "collapsed": false,
    "ExecuteTime": {
     "end_time": "2025-10-21T07:58:52.946295500Z",
     "start_time": "2025-10-21T07:58:52.768263Z"
    }
   },
   "id": "162f09c3985688cb"
  },
  {
   "cell_type": "code",
   "execution_count": 3,
   "outputs": [
    {
     "data": {
      "text/plain": "True"
     },
     "execution_count": 3,
     "metadata": {},
     "output_type": "execute_result"
    }
   ],
   "source": [
    "# Load tokenizer\n",
    "\n",
    "import sentencepiece as spm\n",
    "\n",
    "sp = spm.SentencePieceProcessor()\n",
    "sp.load(\"declension.model\")"
   ],
   "metadata": {
    "collapsed": false,
    "ExecuteTime": {
     "end_time": "2025-10-21T07:58:52.949286400Z",
     "start_time": "2025-10-21T07:58:52.896030200Z"
    }
   },
   "id": "dd329bddb3851cc9"
  },
  {
   "cell_type": "code",
   "execution_count": 4,
   "outputs": [
    {
     "name": "stdout",
     "output_type": "stream",
     "text": [
      "ℹ️ Max: 4, 95th percentile: 3.0\n"
     ]
    }
   ],
   "source": [
    "# Prepare training data with batches\n",
    "\n",
    "import torch\n",
    "from torch.nn.functional import pad\n",
    "\n",
    "vocab_size = sp.get_piece_size()\n",
    "pad_id = sp.pad_id()\n",
    "if pad_id < 0:\n",
    "    pad_id = vocab_size\n",
    "    vocab_size += 1\n",
    "\n",
    "input_tensors = []\n",
    "label_tensors = []\n",
    "\n",
    "for x, y in duplets:\n",
    "    x_ids = torch.tensor(sp.encode(x, out_type=int))\n",
    "    y_ids = torch.tensor(sp.encode(y, out_type=int))\n",
    "    assert x_ids.max().item() < vocab_size\n",
    "    assert y_ids.max().item() < vocab_size\n",
    "    input_tensors.append(x_ids)\n",
    "    label_tensors.append(y_ids)\n",
    "\n",
    "lengths = [max(len(x), len(y)) for x, y in zip(input_tensors, label_tensors)]\n",
    "max_len = max(lengths)\n",
    "\n",
    "# Print only if it exceeds thresholds\n",
    "if max_len > 24:\n",
    "    print(f\"🚨 Max sequence length is {max_len} — consider using 32 or higher\")\n",
    "elif max_len > 16:\n",
    "    print(f\"⚠️ Max sequence length is {max_len} — 24 might be sufficient\")\n",
    "\n",
    "import numpy as np\n",
    "lengths = [max(len(x), len(y)) for x, y in zip(input_tensors, label_tensors)]\n",
    "print(f\"ℹ️ Max: {max(lengths)}, 95th percentile: {np.percentile(lengths, 95)}\")\n",
    "\n",
    "# ✅ Static max length\n",
    "max_seq_len = 32\n",
    "\n",
    "# Pad to fixed length\n",
    "inputs = [pad(x, (0, max_seq_len - len(x)), value=pad_id)[:max_seq_len] for x in input_tensors]\n",
    "labels = [pad(y, (0, max_seq_len - len(y)), value=pad_id)[:max_seq_len] for y in label_tensors]"
   ],
   "metadata": {
    "collapsed": false,
    "ExecuteTime": {
     "end_time": "2025-10-21T07:58:57.215858100Z",
     "start_time": "2025-10-21T07:58:52.920284400Z"
    }
   },
   "id": "111e6105f554fbd3"
  },
  {
   "cell_type": "code",
   "execution_count": 5,
   "outputs": [
    {
     "name": "stdout",
     "output_type": "stream",
     "text": [
      "Epoch 1: Loss = 1569.2928\n",
      "copilului → copil\n",
      "mamei → mamă\n",
      "Sorana Cîrstea → mamă mamă\n",
      "Gigi Becali → mamă mamă engleze echipaorului femei patinatoarelor comisief\n",
      "Soranei Cîrstea → mamă engleze\n",
      "Iuliu Mureșan → mamă atenți finlandezi engleze femei\n",
      "Epoch 10: Loss = 391.8344\n",
      "copilului → copil\n",
      "mamei → mamă\n",
      "Sorana Cîrstea → Sorana Cîrstea\n",
      "Gigi Becali → acadea tineri-africanafricanafrican- străin engleze\n",
      "Soranei Cîrstea → Sorana Cîrstea\n",
      "Iuliu Mureșan → Iași atenți-africanafrican\n",
      "Epoch 11: Loss = 335.1819\n",
      "copilului → copil\n",
      "mamei → mamă\n",
      "Sorana Cîrstea → Sorana Cîrstea\n",
      "Gigi Becali → acadea tineri-africanafricanafrican- străin copii\n",
      "Soranei Cîrstea → Sorana Cîrstea\n",
      "Iuliu Mureșan → Iași atenți-africanafrican\n",
      "Epoch 20: Loss = 68.0228\n",
      "copilului → copil\n",
      "mamei → mamă\n",
      "Sorana Cîrstea → Sorana Cîrstea\n",
      "Gigi Becali → acadea tineri-africanafricanafrican patinatoare prieten copii\n",
      "Soranei Cîrstea → Sorana Cîrstea\n",
      "Iuliu Mureșan → Iași Jiu-africanafrican\n",
      "Epoch 21: Loss = 57.6393\n",
      "copilului → copil\n",
      "mamei → mamă\n",
      "Sorana Cîrstea → Sorana Cîrstea\n",
      "Gigi Becali → acadea tineri-africanafricanafrican patinatoare prieten copii\n",
      "Soranei Cîrstea → Sorana Cîrstea\n",
      "Iuliu Mureșan → Iași Jiu statafricanafrican\n",
      "Epoch 30: Loss = 19.1514\n",
      "copilului → copil\n",
      "mamei → mamă\n",
      "Sorana Cîrstea → Sorana Cîrstea\n",
      "Gigi Becali → acadea tineri-africanafricanafrican patinatoare prieten copii\n",
      "Soranei Cîrstea → Sorana Cîrstea\n",
      "Iuliu Mureșan → Iași Jiu statafricanafrican\n",
      "Epoch 31: Loss = 17.5876\n",
      "copilului → copil\n",
      "mamei → mamă\n",
      "Sorana Cîrstea → Sorana Cîrstea\n",
      "Gigi Becali → acadea tineri-africanafricanafrican patinatoare prieten copii\n",
      "Soranei Cîrstea → Sorana Cîrstea\n",
      "Iuliu Mureșan → Iași Jiu statafricanafrican\n",
      "Epoch 40: Loss = 10.1933\n",
      "copilului → copil\n",
      "mamei → mamă\n",
      "Sorana Cîrstea → Sorana Cîrstea\n",
      "Gigi Becali → acadea sud-africanafricanafrican patinatoare fanion copii\n",
      "Soranei Cîrstea → Sorana Cîrstea\n",
      "Iuliu Mureșan → Iași Jiu statafricanafrican\n",
      "Epoch 41: Loss = 9.7803\n",
      "copilului → copil\n",
      "mamei → mamă\n",
      "Sorana Cîrstea → Sorana Cîrstea\n",
      "Gigi Becali → acadea sud-africanafricanafrican patinatoare fanion copii\n",
      "Soranei Cîrstea → Sorana Cîrstea\n",
      "Iuliu Mureșan → Iași Jiu statafricanafrican\n",
      "Epoch 50: Loss = 7.5432\n",
      "copilului → copil\n",
      "mamei → mamă\n",
      "Sorana Cîrstea → Sorana Cîrstea\n",
      "Gigi Becali → acadea sud-africanafricanafrican patinatoare fanion copii\n",
      "Soranei Cîrstea → Sorana Cîrstea\n",
      "Iuliu Mureșan → Iași Jiu statafricanafrican\n"
     ]
    }
   ],
   "source": [
    "# Train the model\n",
    "\n",
    "from torch.optim import AdamW\n",
    "from model.declension_model import DeclensionModel\n",
    "import torch.nn as nn\n",
    "\n",
    "hidden_dim = 256\n",
    "device = torch.device(\"cuda\" if torch.cuda.is_available() else \"cpu\")\n",
    "\n",
    "model = DeclensionModel(vocab_size, hidden_dim, max_seq_len=max_seq_len).to(device)\n",
    "optimizer = AdamW(model.parameters(), lr=1e-4)\n",
    "loss_fn = nn.CrossEntropyLoss(ignore_index=pad_id)\n",
    "\n",
    "model.train()\n",
    "for epoch in range(50):\n",
    "    total_loss = 0\n",
    "    for input_ids, label_ids in zip(inputs, labels):\n",
    "        input_ids = input_ids.unsqueeze(0).to(device)  # shape: [1, seq_len]\n",
    "        label_ids = label_ids.unsqueeze(0).to(device)  # shape: [1, seq_len]\n",
    "\n",
    "        logits = model(input_ids)  # shape: [1, seq_len, vocab_size]\n",
    "        loss = loss_fn(logits.view(-1, vocab_size), label_ids.view(-1))\n",
    "\n",
    "        loss.backward()\n",
    "        optimizer.step()\n",
    "        optimizer.zero_grad()\n",
    "        total_loss += loss.item()\n",
    "\n",
    "    if epoch % 10 == 0 or (epoch + 1) % 10 == 0:\n",
    "        print(f\"Epoch {epoch + 1}: Loss = {total_loss:.4f}\")\n",
    "        with torch.no_grad():\n",
    "            for x in [\"copilului\", \"mamei\",  \"Sorana Cîrstea\", \"Gigi Becali\", \"Soranei Cîrstea\", \"Iuliu Mureșan\"]:\n",
    "                x_ids = torch.tensor(sp.encode(x, out_type=int)).unsqueeze(0).to(device)\n",
    "                output = model(x_ids)\n",
    "                pred_ids = torch.argmax(output, dim=-1)\n",
    "                print(f\"{x} → {sp.decode(pred_ids[0].tolist())}\")"
   ],
   "metadata": {
    "collapsed": false,
    "ExecuteTime": {
     "end_time": "2025-10-21T08:03:25.701458500Z",
     "start_time": "2025-10-21T07:58:57.213858900Z"
    }
   },
   "id": "ae7c0a3214b45459"
  },
  {
   "cell_type": "code",
   "execution_count": 6,
   "outputs": [],
   "source": [
    "# Torch script export\n",
    "\n",
    "scripted_model = torch.jit.script(model)\n",
    "scripted_model.save(\"declension_sentencepiece.pt\")"
   ],
   "metadata": {
    "collapsed": false,
    "ExecuteTime": {
     "end_time": "2025-10-21T08:03:25.919870400Z",
     "start_time": "2025-10-21T08:03:25.695902700Z"
    }
   },
   "id": "e34620e4f92bc10e"
  },
  {
   "cell_type": "code",
   "execution_count": 7,
   "outputs": [
    {
     "name": "stdout",
     "output_type": "stream",
     "text": [
      "✅ copilului → copil - copil\n",
      "✅ copiii → copii - copii\n",
      "✅ mamei → mamă - mamă\n",
      "✅ mamelor → mame - mame\n",
      "✅ fratelui → frate - frate\n",
      "✅ sportivilor → sportivi - sportivi\n",
      "✅ echipelor locale → echipe locale - echipe locale\n",
      "✅ manelei → manea - manea\n",
      "✅ acadelei → acadea - acadea\n",
      "✅ Stelei București → Steaua București - Steaua București\n",
      "✅ Stelei → Steaua - Steaua\n",
      "✅ Unirii → Unirea - Unirea\n",
      "✅ Sibiului → Sibiu - Sibiu\n",
      "✅ jucătoarei → jucătoare - jucătoare\n",
      "✅ fotbalistelor tinere → fotbaliste tinere - fotbaliste tinere\n",
      "✅ rugbiștilor francezi → rugbiști francezi - rugbiști francezi\n",
      "✅ cetățeanului → cetățean - cetățean\n",
      "✅ comisiilor → comisii - comisii\n",
      "✅ prefecților → prefecți - prefecți\n",
      "✅ Sebeșului → Sebeș - Sebeș\n",
      "✅ Soranei → Sorana - Sorana\n",
      "✅ Sorana Cîrstea → Sorana Cîrstea - Sorana Cîrstea\n",
      "❌ Gigi Becali → acadea sud-africanafricanafrican patinatoare fanion copii - acadea sud-africanafricanafrican patinatoare fanion copii (expected: Gigi Becali)\n",
      "✅ Soranei Cîrstea → Sorana Cîrstea - Sorana Cîrstea\n",
      "❌ Iuliu Mureșan → Iași Jiu statafricanafrican - Iași Jiu statafricanafrican (expected: Iuliu Mureșan)\n"
     ]
    }
   ],
   "source": [
    "# Test prediction\n",
    "from service.util.declension_util import DeclensionUtil\n",
    "from storage.duplets_dictionary import test_cases\n",
    "\n",
    "model.eval()\n",
    "scripted_model.eval()\n",
    "\n",
    "for input_text, expected_output in test_cases:\n",
    "    predicted_output = DeclensionUtil.predict(model, sp, input_text)\n",
    "    scripted_model_output = DeclensionUtil.predict(scripted_model, sp, input_text)\n",
    "    if predicted_output != expected_output or scripted_model_output != expected_output:\n",
    "        print(f\"❌ {input_text} → {predicted_output} - {scripted_model_output} (expected: {expected_output})\")\n",
    "    else:\n",
    "        print(f\"✅ {input_text} → {predicted_output} - {scripted_model_output}\")\n"
   ],
   "metadata": {
    "collapsed": false,
    "ExecuteTime": {
     "end_time": "2025-10-21T08:03:26.136363800Z",
     "start_time": "2025-10-21T08:03:25.923871700Z"
    }
   },
   "id": "964065c4a980e9af"
  },
  {
   "cell_type": "code",
   "execution_count": 8,
   "outputs": [
    {
     "name": "stdout",
     "output_type": "stream",
     "text": [
      "✅ copilului → copil\n",
      "✅ copiii → copii\n",
      "✅ mamei → mamă\n",
      "✅ mamelor → mame\n",
      "✅ fratelui → frate\n",
      "✅ sportivilor → sportivi\n",
      "✅ echipelor locale → echipe locale\n",
      "✅ manelei → manea\n",
      "✅ acadelei → acadea\n",
      "✅ Stelei București → Steaua București\n",
      "✅ Stelei → Steaua\n",
      "✅ Unirii → Unirea\n",
      "✅ Sibiului → Sibiu\n",
      "✅ jucătoarei → jucătoare\n",
      "✅ fotbalistelor tinere → fotbaliste tinere\n",
      "✅ rugbiștilor francezi → rugbiști francezi\n",
      "✅ cetățeanului → cetățean\n",
      "✅ comisiilor → comisii\n",
      "✅ prefecților → prefecți\n",
      "✅ Sebeșului → Sebeș\n",
      "✅ Soranei → Sorana\n",
      "✅ Sorana Cîrstea → Sorana Cîrstea\n",
      "❌ Gigi Becali → acadea sud-africanafricanafrican patinatoare fanion copii (expected: Gigi Becali)\n",
      "✅ Soranei Cîrstea → Sorana Cîrstea\n",
      "❌ Iuliu Mureșan → Iași Jiu statafricanafrican (expected: Iuliu Mureșan)\n"
     ]
    }
   ],
   "source": [
    "import torch\n",
    "from service.util.declension_util import DeclensionUtil\n",
    "from storage.duplets_dictionary import test_cases\n",
    "\n",
    "import sentencepiece as spm\n",
    "\n",
    "sp = spm.SentencePieceProcessor()\n",
    "sp.load(\"declension.model\") # Replace with your actual model filename\n",
    "\n",
    "# Set device\n",
    "device = torch.device(\"cuda\" if torch.cuda.is_available() else \"cpu\")\n",
    "\n",
    "# Load the scripted model\n",
    "scripted_model = torch.jit.load(\"declension_sentencepiece.pt\").to(device)\n",
    "scripted_model.eval()\n",
    "\n",
    "for input_text, expected_output in test_cases:\n",
    "    scripted_model_output = DeclensionUtil.predict(scripted_model, sp, input_text)\n",
    "    if scripted_model_output != expected_output:\n",
    "        print(f\"❌ {input_text} → {scripted_model_output} (expected: {expected_output})\")\n",
    "    else:\n",
    "        print(f\"✅ {input_text} → {scripted_model_output}\")"
   ],
   "metadata": {
    "collapsed": false,
    "ExecuteTime": {
     "end_time": "2025-10-21T08:03:26.253608Z",
     "start_time": "2025-10-21T08:03:26.133368500Z"
    }
   },
   "id": "20fde636c55575e4"
  }
 ],
 "metadata": {
  "kernelspec": {
   "display_name": "Python 3",
   "language": "python",
   "name": "python3"
  },
  "language_info": {
   "codemirror_mode": {
    "name": "ipython",
    "version": 2
   },
   "file_extension": ".py",
   "mimetype": "text/x-python",
   "name": "python",
   "nbconvert_exporter": "python",
   "pygments_lexer": "ipython2",
   "version": "2.7.6"
  }
 },
 "nbformat": 4,
 "nbformat_minor": 5
}
