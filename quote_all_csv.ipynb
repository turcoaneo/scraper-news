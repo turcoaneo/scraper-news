{
 "cells": [
  {
   "cell_type": "code",
   "execution_count": 1,
   "id": "initial_id",
   "metadata": {
    "collapsed": true,
    "ExecuteTime": {
     "end_time": "2025-10-01T08:16:21.476741900Z",
     "start_time": "2025-10-01T08:16:21.460822800Z"
    }
   },
   "outputs": [],
   "source": [
    "import csv\n",
    "input_file = \"storage/test_gpt_input_corrupt.csv\"\n",
    "output_file = \"storage/test_gpt_output_corrupt.csv\"\n",
    "with open(input_file, encoding=\"utf-8\") as infile, open(output_file, mode=\"w\", newline=\"\", encoding=\"utf-8\") as outfile:\n",
    "    reader = csv.reader(infile)\n",
    "    writer = csv.writer(outfile, quoting=csv.QUOTE_ALL)\n",
    "\n",
    "    for row in reader:\n",
    "        if len(row) < 3:\n",
    "            continue  # Skip malformed rows\n",
    "        try:\n",
    "           writer.writerow(row)\n",
    "        except Exception as e:\n",
    "            print(f\"Error processing row: {row[:50]}... → {e}\")"
   ]
  }
 ],
 "metadata": {
  "kernelspec": {
   "display_name": "Python 3",
   "language": "python",
   "name": "python3"
  },
  "language_info": {
   "codemirror_mode": {
    "name": "ipython",
    "version": 2
   },
   "file_extension": ".py",
   "mimetype": "text/x-python",
   "name": "python",
   "nbconvert_exporter": "python",
   "pygments_lexer": "ipython2",
   "version": "2.7.6"
  }
 },
 "nbformat": 4,
 "nbformat_minor": 5
}
